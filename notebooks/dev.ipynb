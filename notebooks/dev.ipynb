{
 "cells": [
  {
   "cell_type": "code",
   "execution_count": 1,
   "metadata": {},
   "outputs": [],
   "source": [
    "import tensorflow as tf"
   ]
  },
  {
   "cell_type": "code",
   "execution_count": 2,
   "metadata": {},
   "outputs": [],
   "source": [
    "import numpy as np"
   ]
  },
  {
   "cell_type": "code",
   "execution_count": 3,
   "metadata": {},
   "outputs": [
    {
     "name": "stdout",
     "output_type": "stream",
     "text": [
      "Number of columns in the csv: 4\n"
     ]
    }
   ],
   "source": [
    "# Get the numbers of columns in the csv:\n",
    "\n",
    "csv_in = open(\"ex.csv\", \"r\")                        # open the csv\n",
    "ncol = len(csv_in.readline().split(\",\"))            # read the first line and count the # of columns\n",
    "csv_in.close()                                      # close the csv\n",
    "print(\"Number of columns in the csv: \" + str(ncol)) # print the # of columns"
   ]
  },
  {
   "cell_type": "code",
   "execution_count": 4,
   "metadata": {},
   "outputs": [
    {
     "name": "stdout",
     "output_type": "stream",
     "text": [
      "Current column to be full pass: 0\n",
      "[1.0, 5.0, 9.0]\n",
      "Tensor(\"map/TensorArrayStack/TensorArrayGatherV3:0\", shape=(1, 3), dtype=float32)\n",
      "\n",
      "\n",
      "Current column to be full pass: 1\n",
      "[2.0, 6.0, 10.0]\n",
      "Tensor(\"map_1/TensorArrayStack/TensorArrayGatherV3:0\", shape=(1, 3), dtype=float32)\n",
      "\n",
      "\n",
      "Current column to be full pass: 3\n",
      "[4.0, 8.0, 12.0]\n",
      "Tensor(\"map_2/TensorArrayStack/TensorArrayGatherV3:0\", shape=(1, 3), dtype=float32)\n",
      "\n",
      "\n",
      "Current column to be full pass: 2\n",
      "[3.0, 7.0, 11.0]\n",
      "Tensor(\"map_3/TensorArrayStack/TensorArrayGatherV3:0\", shape=(1, 3), dtype=float32)\n",
      "\n",
      "\n"
     ]
    }
   ],
   "source": [
    "# WORKING VERSION\n",
    "\n",
    "\n",
    "\n",
    "\n",
    "\n",
    "\n",
    "# Create random column order list (dataset) + iterator\n",
    "col_list = tf.data.Dataset.range(ncol).shuffle(buffer_size=ncol)\n",
    "col_next = col_list.make_one_shot_iterator().get_next()\n",
    "\n",
    "#def scale_zscore(vector):\n",
    "#    mean, var = tf.nn.moments(vector, axes=[0])\n",
    "#    normalized_col = tf.map_fn(lambda x: (x - mean)/tf.sqrt(var), vector)\n",
    "#    return normalized_col\n",
    "\n",
    "# Launch of graph\n",
    "with tf.Session() as sess:\n",
    "\n",
    "    while True: # Loop on 'col_next', the queue of column iterator\n",
    "        try:\n",
    "            index = sess.run(col_next)\n",
    "            dataset = tf.contrib.data.CsvDataset( # Creates a dataset of the current csv column\n",
    "                        \"ex.csv\",\n",
    "                        [tf.float32],\n",
    "                        select_cols=[index]  # Only parse last three columns\n",
    "                    )\n",
    "            next_element = dataset.make_one_shot_iterator().get_next() # Creates an iterator\n",
    "            print('Current column to be full pass: ' + str(index))\n",
    "            current_col = []\n",
    "            while True: \n",
    "                try:\n",
    "                    current_col.append(sess.run(next_element)[0]) # Full pass\n",
    "                except tf.errors.OutOfRangeError: # End of full pass\n",
    "                    \n",
    "                    print(current_col)\n",
    "                    current_col = tf.convert_to_tensor([current_col])\n",
    "                    mean, var = tf.nn.moments(current_col, axes=[0])\n",
    "                    normalized_col = tf.map_fn(lambda x: (x - mean)/tf.sqrt(var), current_col)\n",
    "                    print(normalized_col)\n",
    "                    print('\\n')\n",
    "                    \n",
    "                    break\n",
    "\n",
    "\n",
    "            \n",
    "\n",
    "        except tf.errors.OutOfRangeError:\n",
    "            break\n",
    "\n",
    "\n"
   ]
  },
  {
   "cell_type": "code",
   "execution_count": null,
   "metadata": {},
   "outputs": [],
   "source": []
  }
 ],
 "metadata": {
  "kernelspec": {
   "display_name": "Python 3",
   "language": "python",
   "name": "python3"
  },
  "language_info": {
   "codemirror_mode": {
    "name": "ipython",
    "version": 3
   },
   "file_extension": ".py",
   "mimetype": "text/x-python",
   "name": "python",
   "nbconvert_exporter": "python",
   "pygments_lexer": "ipython3",
   "version": "3.6.4"
  }
 },
 "nbformat": 4,
 "nbformat_minor": 2
}
