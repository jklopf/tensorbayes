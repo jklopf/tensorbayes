{
 "cells": [
  {
   "cell_type": "code",
   "execution_count": 1,
   "metadata": {},
   "outputs": [],
   "source": [
    "# Imports\n",
    "import tensorflow as tf"
   ]
  },
  {
   "cell_type": "code",
   "execution_count": 2,
   "metadata": {},
   "outputs": [
    {
     "data": {
      "text/plain": [
       "'1.12.0'"
      ]
     },
     "execution_count": 2,
     "metadata": {},
     "output_type": "execute_result"
    }
   ],
   "source": [
    "tf.VERSION"
   ]
  },
  {
   "cell_type": "code",
   "execution_count": 3,
   "metadata": {},
   "outputs": [
    {
     "data": {
      "text/plain": [
       "'\\nThis version should be able to retrieve the simulated parameters and\\nstore the history of the sampling, as NumpyBayes_v2.py does. \\n\\nThe next version will implement the tensorflow dataset API instead of\\nplaceholders to feed data, and will be called:\\n- TensorBayes_v3.3.py\\n\\n'"
      ]
     },
     "execution_count": 3,
     "metadata": {},
     "output_type": "execute_result"
    }
   ],
   "source": [
    "import tensorflow_probability as tfp\n",
    "import numpy as np\n",
    "import time\n",
    "tfd = tfp.distributions\n",
    "\n",
    "'''\n",
    "This version should be able to retrieve the simulated parameters and\n",
    "store the history of the sampling, as NumpyBayes_v2.py does. \n",
    "\n",
    "The next version will implement the tensorflow dataset API instead of\n",
    "placeholders to feed data, and will be called:\n",
    "- TensorBayes_v3.3.py\n",
    "\n",
    "'''"
   ]
  },
  {
   "cell_type": "code",
   "execution_count": 4,
   "metadata": {},
   "outputs": [],
   "source": [
    "# Start time measures\n",
    "start_time = time.clock()\n",
    "\n",
    "# Reset the graph\n",
    "tf.reset_default_graph()\n",
    "\n",
    "# Reproducibility\n",
    "# Seed setting for reproducable research.\n",
    "# \n",
    "# Set numpy seed\n",
    "np.random.seed(1234)\n",
    "\n",
    "# Set graph-level seed\n",
    "tf.set_random_seed(1234)"
   ]
  },
  {
   "cell_type": "code",
   "execution_count": 5,
   "metadata": {},
   "outputs": [],
   "source": [
    "# Util functions\n",
    "\n",
    "def tf_squared_norm(vector):\n",
    "    sum_of_squares = tf.reduce_sum(tf.square(vector))\n",
    "    return sum_of_squares\n",
    "    \n",
    "def np_squared_norm(vector):\n",
    "    sum_of_squares = np.sum(np.square(vector))\n",
    "    return sum_of_squares\n",
    "\n",
    "\n",
    "# ## Distributions functions\n",
    "# \n",
    "\n",
    "\n",
    "# rnorm is defined using the variance (i.e sigma^2)\n",
    "def rnorm(mean, var): \n",
    "    sd = tf.sqrt(var)\n",
    "    dist = tfd.Normal(loc= mean, scale= sd)\n",
    "    sample = dist.sample()\n",
    "    return sample\n",
    "\n",
    "def rbeta(a, b):\n",
    "    dist = tfd.Beta(a, b)\n",
    "    sample = dist.sample()\n",
    "    return sample\n",
    "\n",
    "def rinvchisq(df, scale): # scale factor = tau^2\n",
    "    dist = tfd.Chi2(df)\n",
    "    sample = (df * scale)/dist.sample()\n",
    "    return sample\n",
    "\n",
    "def rbernoulli(p):\n",
    "    dist = tfd.Bernoulli(probs=p)\n",
    "    sample = dist.sample()\n",
    "    return sample\n",
    "\n",
    "\n",
    "# Sampling functions\n",
    "# \n",
    "\n",
    "# sample mean\n",
    "def sample_mu(N, Sigma2_e, Y, X, betas):    \n",
    "    mean = tf.reduce_sum(tf.subtract(Y, tf.matmul(X, betas)))/N\n",
    "    var = Sigma2_e/N\n",
    "    sample = rnorm(mean,var)\n",
    "    return sample\n",
    "\n",
    "# sample variance of beta\n",
    "def sample_sigma2_b(betas, NZ, v0B, s0B):\n",
    "    df = v0B+NZ\n",
    "    scale = (tf_squared_norm(betas)+v0B*s0B) / df  \n",
    "    sample = rinvchisq(df, scale)\n",
    "    return sample\n",
    "\n",
    "\n",
    "# sample error variance of Y\n",
    "def sample_sigma2_e(N, epsilon, v0E, s0E):\n",
    "    df = v0E + N\n",
    "    scale = (tf_squared_norm(epsilon) + v0E*s0E) / df\n",
    "    sample = rinvchisq(df, scale)\n",
    "    return sample\n",
    "\n",
    "# sample mixture weight\n",
    "def sample_w(M, NZ):\n",
    "    sample = rbeta(NZ+1, M-NZ+1)\n",
    "    return sample\n",
    "\n",
    "# sample a beta\n",
    "def sample_beta(x_j, eps, s2e, s2b, w, beta_old):\n",
    "    eps = eps + (x_j*beta_old)\n",
    "    Cj = tf_squared_norm(x_j) + s2e/s2b\n",
    "    rj = tf.tensordot(tf.transpose(x_j), eps, 1)[0,0]\n",
    "    ratio = tf.exp( - ( tf.square(rj) / ( 2*Cj*s2e ))) * tf.sqrt((s2b*Cj)/s2e)\n",
    "    pij = w / (w + ratio*(1-w))\n",
    "    toss = rbernoulli(pij)\n",
    "    def case_zero(): return 0., 0. # could return a list [beta,ny]\n",
    "    def case_one(): return rnorm(rj/Cj, s2e/Cj), 1. # could return a list [beta,ny]\n",
    "    beta_new, incl = tf.case([(tf.equal(toss, 0), case_zero)], default=case_one)\n",
    "    # maybe use tf.cond since we only got 1 pair ?\n",
    "    # do we handle ny/nz here ?\n",
    "    eps = eps - (x_j*beta_new)\n",
    "    return beta_new, incl, eps # could return a list [beta,ny]\n",
    "\n",
    "\n",
    "## Simulate data\n",
    "\n",
    "def build_toy_dataset(N, M, var_g):\n",
    "    \n",
    "    sigma_b = np.sqrt(var_g/M)\n",
    "    sigma_e = np.sqrt(1 - var_g)\n",
    "    \n",
    "    beta_true = np.random.normal(0, sigma_b , M)\n",
    "    x = sigma_b * np.random.randn(N, M) \n",
    "    y = np.dot(x, beta_true) + np.random.normal(0, sigma_e, N)\n",
    "    return x, y, beta_true"
   ]
  },
  {
   "cell_type": "code",
   "execution_count": 18,
   "metadata": {},
   "outputs": [
    {
     "data": {
      "text/plain": [
       "'\\nRun with `read_value = True`: 63.4s\\nRun with `read_value = False`: 62.2s\\nWe actually improves the run time by 1 second lol.\\n'"
      ]
     },
     "execution_count": 18,
     "metadata": {},
     "output_type": "execute_result"
    }
   ],
   "source": [
    "# Simulated data parameters\n",
    "\n",
    "N = 5000       # number of data points\n",
    "M = 10        # number of features\n",
    "var_g = 0.7   # M * var(Beta_true)\n",
    "              # Var(Beta_true) = Var(g) / M\n",
    "              # Var(error) = 1 - Var(g) \n",
    "\n",
    "x, y, beta_true = build_toy_dataset(N, M, var_g)\n",
    "X = tf.constant(x, shape=[N,M], dtype=tf.float32)\n",
    "Y = tf.constant(y, shape=[N,1], dtype=tf.float32)\n",
    "\n",
    "# Could be implemented:\n",
    "# building datasets using TF API without numpy\n",
    "\n",
    "\n",
    "# # Precomputations - not practicable with huge datasets\n",
    "# sm = np.zeros(M)\n",
    "# for i in range(M):\n",
    "#     sm[i] = np_squared_norm(x[:,i])\n",
    "\n",
    "\n",
    "'''\n",
    "TODO:   Actually implement all the algorithm optimizations of the reference article\n",
    "        which are not implemented here. Depends on later implementations of input pipeline.\n",
    "'''\n",
    "\n",
    "#  Parameters setup\n",
    "#\n",
    "# Distinction between constant and variables\n",
    "# Variables: values might change between evaluation of the graph\n",
    "# (if something changes within the graph, it should be a variable)\n",
    "\n",
    "# Variables:\n",
    "\n",
    "Emu = tf.Variable(0., dtype=tf.float32)\n",
    "Ebeta = tf.Variable(tf.zeros([M,1], dtype=tf.float32), dtype=tf.float32)\n",
    "Ny = tf.Variable(tf.zeros(M, dtype=tf.float32), dtype=tf.float32)\n",
    "NZ = tf.Variable(0., dtype=tf.float32)\n",
    "Ew = tf.Variable(0., dtype=tf.float32)\n",
    "epsilon = tf.Variable(Y, dtype=tf.float32)\n",
    "Sigma2_e = tf.Variable(tf_squared_norm(Y) / (N*0.5), dtype=tf.float32)\n",
    "Sigma2_b = tf.Variable(rbeta(1., 1.), dtype=tf.float32)\n",
    "\n",
    "# Constants:\n",
    "\n",
    "vEmu = tf.ones([N,1], dtype=tf.float32)\n",
    "v0E = tf.constant(0.001, dtype=tf.float32)\n",
    "v0B = tf.constant(0.001, dtype=tf.float32)\n",
    "s0B = Sigma2_b.initialized_value() / 2\n",
    "s0E = Sigma2_e.initialized_value() / 2\n",
    "\n",
    "# Placeholders:\n",
    "Xj = tf.placeholder(tf.float32, shape=(N,1))\n",
    "ind = tf.placeholder(tf.int32, shape=())\n",
    "\n",
    "\n",
    "# Print stuff:\n",
    "# TODO: construct the op with tf.print() so that values get automatically printed\n",
    "\n",
    "print_dict = {'Emu': Emu, 'Ew': Ew, \n",
    "              'NZ': NZ, 'Sigma2_e': Sigma2_e,\n",
    "              'Sigma2_b': Sigma2_b}\n",
    "\n",
    "\n",
    "# Tensorboard graph\n",
    "# TODO: look up what TensorBoard can do, this can be used in the end to have a graph representation of the algorithm.\n",
    "# Also, for graph clarity, operations should be named.\n",
    "\n",
    "#writer = tf.summary.FileWriter('.')\n",
    "#writer.add_graph(tf.get_default_graph())\n",
    "\n",
    "\n",
    "# Computations\n",
    "ta_beta, ta_ny, ta_eps = sample_beta(Xj, epsilon, Sigma2_e, Sigma2_b, Ew, Ebeta[ind,0]) # Ebeta[ind] might be replaced by using dictionnaries key/value instead.\n",
    "ta_epsilon = Y - tf.matmul(X,Ebeta) - vEmu*Emu\n",
    "ta_s2b = sample_sigma2_b(Ebeta,NZ,v0B,s0B)\n",
    "ta_s2e = sample_sigma2_e(N,epsilon,v0E,s0E)\n",
    "ta_nz = tf.reduce_sum(Ny)\n",
    "\n",
    "# Assignment ops\n",
    "# As we don't chain assignment operations, assignment does not require to return the evaluation of the new value\n",
    "# therefore, all read_value are set to False. No idea if this changes anything.\n",
    "\n",
    "emu_up = Emu.assign(sample_mu(N, Sigma2_e, Y, X, Ebeta), read_value=False)\n",
    "beta_item_assign_op = Ebeta[ind,0].assign(ta_beta) \t\t# when doing item assignment, read_value becomes an unexpected parameter, \n",
    "ny_item_assign_op = Ny[ind].assign(ta_ny) \t\t\t# as tensorflow doesn't know what to return the single item or the whole variable\n",
    "nz_up = NZ.assign(ta_nz, read_value=False)\n",
    "eps_up_fl = epsilon.assign(ta_eps, read_value=False)\n",
    "eps_up = epsilon.assign(ta_epsilon, read_value=False)\n",
    "ew_up = Ew.assign(sample_w(M,NZ), read_value=False)\n",
    "s2b_up = Sigma2_b.assign(ta_s2b, read_value=False)\n",
    "s2e_up = Sigma2_e.assign(ta_s2e, read_value=False)\n",
    "\n",
    "up_grp = tf.group(beta_item_assign_op, ny_item_assign_op, eps_up)\n",
    "\n",
    "'''\n",
    "Run with `read_value = True`: 63.4s\n",
    "Run with `read_value = False`: 62.2s\n",
    "We actually improves the run time by 1 second lol.\n",
    "'''\n",
    "\n",
    "\n",
    "# Sampling log operations"
   ]
  },
  {
   "cell_type": "code",
   "execution_count": 7,
   "metadata": {},
   "outputs": [],
   "source": [
    "sess = tf.Session()"
   ]
  },
  {
   "cell_type": "code",
   "execution_count": 8,
   "metadata": {},
   "outputs": [],
   "source": [
    "a = rbernoulli(0.6)\n"
   ]
  },
  {
   "cell_type": "code",
   "execution_count": 77,
   "metadata": {},
   "outputs": [
    {
     "name": "stdout",
     "output_type": "stream",
     "text": [
      "[0. 0. 0. 0. 0. 0. 0. 0. 0. 0.]\n"
     ]
    }
   ],
   "source": [
    "print(np.array(sess.run(Ebeta)).reshape(M))"
   ]
  },
  {
   "cell_type": "code",
   "execution_count": 43,
   "metadata": {},
   "outputs": [
    {
     "data": {
      "text/plain": [
       "(5000, 1)"
      ]
     },
     "execution_count": 43,
     "metadata": {},
     "output_type": "execute_result"
    }
   ],
   "source": [
    "f.shape"
   ]
  },
  {
   "cell_type": "code",
   "execution_count": 54,
   "metadata": {},
   "outputs": [
    {
     "data": {
      "text/plain": [
       "0.40161506022325627"
      ]
     },
     "execution_count": 54,
     "metadata": {},
     "output_type": "execute_result"
    }
   ],
   "source": [
    "np.random.beta(1,1)"
   ]
  },
  {
   "cell_type": "code",
   "execution_count": 55,
   "metadata": {},
   "outputs": [],
   "source": [
    "a = tf.constant([1,2,3,4,5])"
   ]
  },
  {
   "cell_type": "code",
   "execution_count": 72,
   "metadata": {},
   "outputs": [
    {
     "data": {
      "text/plain": [
       "[[0.039436147, 0.19166356],\n",
       " [0.093662515, 0.1660192],\n",
       " [0.0027010136, 0.59706956],\n",
       " [0.00074282294, 0.05869806],\n",
       " [0.10314919, 0.18005833],\n",
       " [0.05518798, 0.017728753],\n",
       " [0.2184752, 0.7755276],\n",
       " [0.055299826, 0.13404037],\n",
       " [0.09268411, 0.9183267],\n",
       " [0.013717882, 0.40872386]]"
      ]
     },
     "execution_count": 72,
     "metadata": {},
     "output_type": "execute_result"
    }
   ],
   "source": [
    "a = rbeta(1,11)\n",
    "b = rbeta(1,1)\n",
    "a_log = []\n",
    "b_log = []\n",
    "ab_log = []\n",
    "for _ in range(10):\n",
    "    ab_log.append(sess.run([a,b]))\n",
    "ab_log"
   ]
  },
  {
   "cell_type": "code",
   "execution_count": 79,
   "metadata": {},
   "outputs": [
    {
     "ename": "TypeError",
     "evalue": "list indices must be integers or slices, not tuple",
     "output_type": "error",
     "traceback": [
      "\u001b[0;31m---------------------------------------------------------------------------\u001b[0m",
      "\u001b[0;31mTypeError\u001b[0m                                 Traceback (most recent call last)",
      "\u001b[0;32m<ipython-input-79-9feafb869546>\u001b[0m in \u001b[0;36m<module>\u001b[0;34m()\u001b[0m\n\u001b[0;32m----> 1\u001b[0;31m \u001b[0mprint\u001b[0m\u001b[0;34m(\u001b[0m\u001b[0mab_log\u001b[0m\u001b[0;34m[\u001b[0m\u001b[0;34m:\u001b[0m\u001b[0;34m,\u001b[0m\u001b[0;36m0\u001b[0m\u001b[0;34m]\u001b[0m\u001b[0;34m)\u001b[0m\u001b[0;34m\u001b[0m\u001b[0m\n\u001b[0m",
      "\u001b[0;31mTypeError\u001b[0m: list indices must be integers or slices, not tuple"
     ]
    }
   ],
   "source": [
    "print(ab_log[:,0])"
   ]
  },
  {
   "cell_type": "code",
   "execution_count": 60,
   "metadata": {},
   "outputs": [
    {
     "data": {
      "text/plain": [
       "array([ 2,  4,  6,  8, 10], dtype=int32)"
      ]
     },
     "execution_count": 60,
     "metadata": {},
     "output_type": "execute_result"
    }
   ],
   "source": [
    "print_op = tf.print(a)\n",
    "with tf.control_dependencies([print_op]):\n",
    "    out = tf.add(a, a)\n",
    "sess.run(out)\n"
   ]
  },
  {
   "cell_type": "code",
   "execution_count": null,
   "metadata": {},
   "outputs": [],
   "source": []
  },
  {
   "cell_type": "code",
   "execution_count": 44,
   "metadata": {},
   "outputs": [],
   "source": [
    "feed = {ind: [0], Xj: f}"
   ]
  },
  {
   "cell_type": "markdown",
   "metadata": {},
   "source": [
    "tensorboard \\\n",
    "    --logdir ~/Dropbox/Cours/tensorbayes \\\n",
    "    --port 6006 \\\n",
    "    --debugger_port 6064"
   ]
  },
  {
   "cell_type": "code",
   "execution_count": 36,
   "metadata": {},
   "outputs": [],
   "source": [
    "sess.run(tf.global_variables_initializer())"
   ]
  },
  {
   "cell_type": "code",
   "execution_count": 50,
   "metadata": {},
   "outputs": [
    {
     "ename": "InvalidArgumentError",
     "evalue": "You must feed a value for placeholder tensor 'Placeholder_5' with dtype int32\n\t [[node Placeholder_5 (defined at <ipython-input-18-037bc8288df8>:55)  = Placeholder[dtype=DT_INT32, shape=[], _device=\"/job:localhost/replica:0/task:0/device:CPU:0\"]()]]\n\nCaused by op 'Placeholder_5', defined at:\n  File \"/Users/admin/anaconda3/lib/python3.6/runpy.py\", line 193, in _run_module_as_main\n    \"__main__\", mod_spec)\n  File \"/Users/admin/anaconda3/lib/python3.6/runpy.py\", line 85, in _run_code\n    exec(code, run_globals)\n  File \"/Users/admin/anaconda3/lib/python3.6/site-packages/ipykernel_launcher.py\", line 16, in <module>\n    app.launch_new_instance()\n  File \"/Users/admin/anaconda3/lib/python3.6/site-packages/traitlets/config/application.py\", line 658, in launch_instance\n    app.start()\n  File \"/Users/admin/anaconda3/lib/python3.6/site-packages/ipykernel/kernelapp.py\", line 478, in start\n    self.io_loop.start()\n  File \"/Users/admin/anaconda3/lib/python3.6/site-packages/zmq/eventloop/ioloop.py\", line 177, in start\n    super(ZMQIOLoop, self).start()\n  File \"/Users/admin/anaconda3/lib/python3.6/site-packages/tornado/ioloop.py\", line 888, in start\n    handler_func(fd_obj, events)\n  File \"/Users/admin/anaconda3/lib/python3.6/site-packages/tornado/stack_context.py\", line 277, in null_wrapper\n    return fn(*args, **kwargs)\n  File \"/Users/admin/anaconda3/lib/python3.6/site-packages/zmq/eventloop/zmqstream.py\", line 440, in _handle_events\n    self._handle_recv()\n  File \"/Users/admin/anaconda3/lib/python3.6/site-packages/zmq/eventloop/zmqstream.py\", line 472, in _handle_recv\n    self._run_callback(callback, msg)\n  File \"/Users/admin/anaconda3/lib/python3.6/site-packages/zmq/eventloop/zmqstream.py\", line 414, in _run_callback\n    callback(*args, **kwargs)\n  File \"/Users/admin/anaconda3/lib/python3.6/site-packages/tornado/stack_context.py\", line 277, in null_wrapper\n    return fn(*args, **kwargs)\n  File \"/Users/admin/anaconda3/lib/python3.6/site-packages/ipykernel/kernelbase.py\", line 283, in dispatcher\n    return self.dispatch_shell(stream, msg)\n  File \"/Users/admin/anaconda3/lib/python3.6/site-packages/ipykernel/kernelbase.py\", line 233, in dispatch_shell\n    handler(stream, idents, msg)\n  File \"/Users/admin/anaconda3/lib/python3.6/site-packages/ipykernel/kernelbase.py\", line 399, in execute_request\n    user_expressions, allow_stdin)\n  File \"/Users/admin/anaconda3/lib/python3.6/site-packages/ipykernel/ipkernel.py\", line 208, in do_execute\n    res = shell.run_cell(code, store_history=store_history, silent=silent)\n  File \"/Users/admin/anaconda3/lib/python3.6/site-packages/ipykernel/zmqshell.py\", line 537, in run_cell\n    return super(ZMQInteractiveShell, self).run_cell(*args, **kwargs)\n  File \"/Users/admin/anaconda3/lib/python3.6/site-packages/IPython/core/interactiveshell.py\", line 2728, in run_cell\n    interactivity=interactivity, compiler=compiler, result=result)\n  File \"/Users/admin/anaconda3/lib/python3.6/site-packages/IPython/core/interactiveshell.py\", line 2850, in run_ast_nodes\n    if self.run_code(code, result):\n  File \"/Users/admin/anaconda3/lib/python3.6/site-packages/IPython/core/interactiveshell.py\", line 2910, in run_code\n    exec(code_obj, self.user_global_ns, self.user_ns)\n  File \"<ipython-input-18-037bc8288df8>\", line 55, in <module>\n    ind = tf.placeholder(tf.int32, shape=())\n  File \"/Users/admin/anaconda3/lib/python3.6/site-packages/tensorflow/python/ops/array_ops.py\", line 1747, in placeholder\n    return gen_array_ops.placeholder(dtype=dtype, shape=shape, name=name)\n  File \"/Users/admin/anaconda3/lib/python3.6/site-packages/tensorflow/python/ops/gen_array_ops.py\", line 5206, in placeholder\n    \"Placeholder\", dtype=dtype, shape=shape, name=name)\n  File \"/Users/admin/anaconda3/lib/python3.6/site-packages/tensorflow/python/framework/op_def_library.py\", line 787, in _apply_op_helper\n    op_def=op_def)\n  File \"/Users/admin/anaconda3/lib/python3.6/site-packages/tensorflow/python/util/deprecation.py\", line 488, in new_func\n    return func(*args, **kwargs)\n  File \"/Users/admin/anaconda3/lib/python3.6/site-packages/tensorflow/python/framework/ops.py\", line 3274, in create_op\n    op_def=op_def)\n  File \"/Users/admin/anaconda3/lib/python3.6/site-packages/tensorflow/python/framework/ops.py\", line 1770, in __init__\n    self._traceback = tf_stack.extract_stack()\n\nInvalidArgumentError (see above for traceback): You must feed a value for placeholder tensor 'Placeholder_5' with dtype int32\n\t [[node Placeholder_5 (defined at <ipython-input-18-037bc8288df8>:55)  = Placeholder[dtype=DT_INT32, shape=[], _device=\"/job:localhost/replica:0/task:0/device:CPU:0\"]()]]\n",
     "output_type": "error",
     "traceback": [
      "\u001b[0;31m---------------------------------------------------------------------------\u001b[0m",
      "\u001b[0;31mInvalidArgumentError\u001b[0m                      Traceback (most recent call last)",
      "\u001b[0;32m~/anaconda3/lib/python3.6/site-packages/tensorflow/python/client/session.py\u001b[0m in \u001b[0;36m_do_call\u001b[0;34m(self, fn, *args)\u001b[0m\n\u001b[1;32m   1333\u001b[0m     \u001b[0;32mtry\u001b[0m\u001b[0;34m:\u001b[0m\u001b[0;34m\u001b[0m\u001b[0m\n\u001b[0;32m-> 1334\u001b[0;31m       \u001b[0;32mreturn\u001b[0m \u001b[0mfn\u001b[0m\u001b[0;34m(\u001b[0m\u001b[0;34m*\u001b[0m\u001b[0margs\u001b[0m\u001b[0;34m)\u001b[0m\u001b[0;34m\u001b[0m\u001b[0m\n\u001b[0m\u001b[1;32m   1335\u001b[0m     \u001b[0;32mexcept\u001b[0m \u001b[0merrors\u001b[0m\u001b[0;34m.\u001b[0m\u001b[0mOpError\u001b[0m \u001b[0;32mas\u001b[0m \u001b[0me\u001b[0m\u001b[0;34m:\u001b[0m\u001b[0;34m\u001b[0m\u001b[0m\n",
      "\u001b[0;32m~/anaconda3/lib/python3.6/site-packages/tensorflow/python/client/session.py\u001b[0m in \u001b[0;36m_run_fn\u001b[0;34m(feed_dict, fetch_list, target_list, options, run_metadata)\u001b[0m\n\u001b[1;32m   1318\u001b[0m       return self._call_tf_sessionrun(\n\u001b[0;32m-> 1319\u001b[0;31m           options, feed_dict, fetch_list, target_list, run_metadata)\n\u001b[0m\u001b[1;32m   1320\u001b[0m \u001b[0;34m\u001b[0m\u001b[0m\n",
      "\u001b[0;32m~/anaconda3/lib/python3.6/site-packages/tensorflow/python/client/session.py\u001b[0m in \u001b[0;36m_call_tf_sessionrun\u001b[0;34m(self, options, feed_dict, fetch_list, target_list, run_metadata)\u001b[0m\n\u001b[1;32m   1406\u001b[0m         \u001b[0mself\u001b[0m\u001b[0;34m.\u001b[0m\u001b[0m_session\u001b[0m\u001b[0;34m,\u001b[0m \u001b[0moptions\u001b[0m\u001b[0;34m,\u001b[0m \u001b[0mfeed_dict\u001b[0m\u001b[0;34m,\u001b[0m \u001b[0mfetch_list\u001b[0m\u001b[0;34m,\u001b[0m \u001b[0mtarget_list\u001b[0m\u001b[0;34m,\u001b[0m\u001b[0;34m\u001b[0m\u001b[0m\n\u001b[0;32m-> 1407\u001b[0;31m         run_metadata)\n\u001b[0m\u001b[1;32m   1408\u001b[0m \u001b[0;34m\u001b[0m\u001b[0m\n",
      "\u001b[0;31mInvalidArgumentError\u001b[0m: You must feed a value for placeholder tensor 'Placeholder_5' with dtype int32\n\t [[{{node Placeholder_5}} = Placeholder[dtype=DT_INT32, shape=[], _device=\"/job:localhost/replica:0/task:0/device:CPU:0\"]()]]",
      "\nDuring handling of the above exception, another exception occurred:\n",
      "\u001b[0;31mInvalidArgumentError\u001b[0m                      Traceback (most recent call last)",
      "\u001b[0;32m<ipython-input-50-f041f5a3e39c>\u001b[0m in \u001b[0;36m<module>\u001b[0;34m()\u001b[0m\n\u001b[0;32m----> 1\u001b[0;31m \u001b[0msess\u001b[0m\u001b[0;34m.\u001b[0m\u001b[0mrun\u001b[0m\u001b[0;34m(\u001b[0m\u001b[0mta_beta\u001b[0m\u001b[0;34m.\u001b[0m\u001b[0meval\u001b[0m\u001b[0;34m(\u001b[0m\u001b[0msession\u001b[0m\u001b[0;34m=\u001b[0m\u001b[0msess\u001b[0m\u001b[0;34m)\u001b[0m\u001b[0;34m,\u001b[0m \u001b[0mfeed_dict\u001b[0m\u001b[0;34m=\u001b[0m\u001b[0;34m{\u001b[0m\u001b[0mind\u001b[0m\u001b[0;34m:\u001b[0m \u001b[0;36m0\u001b[0m\u001b[0;34m,\u001b[0m \u001b[0mXj\u001b[0m\u001b[0;34m:\u001b[0m \u001b[0mx\u001b[0m\u001b[0;34m[\u001b[0m\u001b[0;34m:\u001b[0m\u001b[0;34m,\u001b[0m\u001b[0;36m0\u001b[0m\u001b[0;34m]\u001b[0m\u001b[0;34m.\u001b[0m\u001b[0mreshape\u001b[0m\u001b[0;34m(\u001b[0m\u001b[0mN\u001b[0m\u001b[0;34m,\u001b[0m\u001b[0;36m1\u001b[0m\u001b[0;34m)\u001b[0m\u001b[0;34m}\u001b[0m\u001b[0;34m)\u001b[0m\u001b[0;34m\u001b[0m\u001b[0m\n\u001b[0m",
      "\u001b[0;32m~/anaconda3/lib/python3.6/site-packages/tensorflow/python/framework/ops.py\u001b[0m in \u001b[0;36meval\u001b[0;34m(self, feed_dict, session)\u001b[0m\n\u001b[1;32m    711\u001b[0m \u001b[0;34m\u001b[0m\u001b[0m\n\u001b[1;32m    712\u001b[0m     \"\"\"\n\u001b[0;32m--> 713\u001b[0;31m     \u001b[0;32mreturn\u001b[0m \u001b[0m_eval_using_default_session\u001b[0m\u001b[0;34m(\u001b[0m\u001b[0mself\u001b[0m\u001b[0;34m,\u001b[0m \u001b[0mfeed_dict\u001b[0m\u001b[0;34m,\u001b[0m \u001b[0mself\u001b[0m\u001b[0;34m.\u001b[0m\u001b[0mgraph\u001b[0m\u001b[0;34m,\u001b[0m \u001b[0msession\u001b[0m\u001b[0;34m)\u001b[0m\u001b[0;34m\u001b[0m\u001b[0m\n\u001b[0m\u001b[1;32m    714\u001b[0m \u001b[0;34m\u001b[0m\u001b[0m\n\u001b[1;32m    715\u001b[0m \u001b[0;34m\u001b[0m\u001b[0m\n",
      "\u001b[0;32m~/anaconda3/lib/python3.6/site-packages/tensorflow/python/framework/ops.py\u001b[0m in \u001b[0;36m_eval_using_default_session\u001b[0;34m(tensors, feed_dict, graph, session)\u001b[0m\n\u001b[1;32m   5155\u001b[0m                        \u001b[0;34m\"the tensor's graph is different from the session's \"\u001b[0m\u001b[0;34m\u001b[0m\u001b[0m\n\u001b[1;32m   5156\u001b[0m                        \"graph.\")\n\u001b[0;32m-> 5157\u001b[0;31m   \u001b[0;32mreturn\u001b[0m \u001b[0msession\u001b[0m\u001b[0;34m.\u001b[0m\u001b[0mrun\u001b[0m\u001b[0;34m(\u001b[0m\u001b[0mtensors\u001b[0m\u001b[0;34m,\u001b[0m \u001b[0mfeed_dict\u001b[0m\u001b[0;34m)\u001b[0m\u001b[0;34m\u001b[0m\u001b[0m\n\u001b[0m\u001b[1;32m   5158\u001b[0m \u001b[0;34m\u001b[0m\u001b[0m\n\u001b[1;32m   5159\u001b[0m \u001b[0;34m\u001b[0m\u001b[0m\n",
      "\u001b[0;32m~/anaconda3/lib/python3.6/site-packages/tensorflow/python/client/session.py\u001b[0m in \u001b[0;36mrun\u001b[0;34m(self, fetches, feed_dict, options, run_metadata)\u001b[0m\n\u001b[1;32m    927\u001b[0m     \u001b[0;32mtry\u001b[0m\u001b[0;34m:\u001b[0m\u001b[0;34m\u001b[0m\u001b[0m\n\u001b[1;32m    928\u001b[0m       result = self._run(None, fetches, feed_dict, options_ptr,\n\u001b[0;32m--> 929\u001b[0;31m                          run_metadata_ptr)\n\u001b[0m\u001b[1;32m    930\u001b[0m       \u001b[0;32mif\u001b[0m \u001b[0mrun_metadata\u001b[0m\u001b[0;34m:\u001b[0m\u001b[0;34m\u001b[0m\u001b[0m\n\u001b[1;32m    931\u001b[0m         \u001b[0mproto_data\u001b[0m \u001b[0;34m=\u001b[0m \u001b[0mtf_session\u001b[0m\u001b[0;34m.\u001b[0m\u001b[0mTF_GetBuffer\u001b[0m\u001b[0;34m(\u001b[0m\u001b[0mrun_metadata_ptr\u001b[0m\u001b[0;34m)\u001b[0m\u001b[0;34m\u001b[0m\u001b[0m\n",
      "\u001b[0;32m~/anaconda3/lib/python3.6/site-packages/tensorflow/python/client/session.py\u001b[0m in \u001b[0;36m_run\u001b[0;34m(self, handle, fetches, feed_dict, options, run_metadata)\u001b[0m\n\u001b[1;32m   1150\u001b[0m     \u001b[0;32mif\u001b[0m \u001b[0mfinal_fetches\u001b[0m \u001b[0;32mor\u001b[0m \u001b[0mfinal_targets\u001b[0m \u001b[0;32mor\u001b[0m \u001b[0;34m(\u001b[0m\u001b[0mhandle\u001b[0m \u001b[0;32mand\u001b[0m \u001b[0mfeed_dict_tensor\u001b[0m\u001b[0;34m)\u001b[0m\u001b[0;34m:\u001b[0m\u001b[0;34m\u001b[0m\u001b[0m\n\u001b[1;32m   1151\u001b[0m       results = self._do_run(handle, final_targets, final_fetches,\n\u001b[0;32m-> 1152\u001b[0;31m                              feed_dict_tensor, options, run_metadata)\n\u001b[0m\u001b[1;32m   1153\u001b[0m     \u001b[0;32melse\u001b[0m\u001b[0;34m:\u001b[0m\u001b[0;34m\u001b[0m\u001b[0m\n\u001b[1;32m   1154\u001b[0m       \u001b[0mresults\u001b[0m \u001b[0;34m=\u001b[0m \u001b[0;34m[\u001b[0m\u001b[0;34m]\u001b[0m\u001b[0;34m\u001b[0m\u001b[0m\n",
      "\u001b[0;32m~/anaconda3/lib/python3.6/site-packages/tensorflow/python/client/session.py\u001b[0m in \u001b[0;36m_do_run\u001b[0;34m(self, handle, target_list, fetch_list, feed_dict, options, run_metadata)\u001b[0m\n\u001b[1;32m   1326\u001b[0m     \u001b[0;32mif\u001b[0m \u001b[0mhandle\u001b[0m \u001b[0;32mis\u001b[0m \u001b[0;32mNone\u001b[0m\u001b[0;34m:\u001b[0m\u001b[0;34m\u001b[0m\u001b[0m\n\u001b[1;32m   1327\u001b[0m       return self._do_call(_run_fn, feeds, fetches, targets, options,\n\u001b[0;32m-> 1328\u001b[0;31m                            run_metadata)\n\u001b[0m\u001b[1;32m   1329\u001b[0m     \u001b[0;32melse\u001b[0m\u001b[0;34m:\u001b[0m\u001b[0;34m\u001b[0m\u001b[0m\n\u001b[1;32m   1330\u001b[0m       \u001b[0;32mreturn\u001b[0m \u001b[0mself\u001b[0m\u001b[0;34m.\u001b[0m\u001b[0m_do_call\u001b[0m\u001b[0;34m(\u001b[0m\u001b[0m_prun_fn\u001b[0m\u001b[0;34m,\u001b[0m \u001b[0mhandle\u001b[0m\u001b[0;34m,\u001b[0m \u001b[0mfeeds\u001b[0m\u001b[0;34m,\u001b[0m \u001b[0mfetches\u001b[0m\u001b[0;34m)\u001b[0m\u001b[0;34m\u001b[0m\u001b[0m\n",
      "\u001b[0;32m~/anaconda3/lib/python3.6/site-packages/tensorflow/python/client/session.py\u001b[0m in \u001b[0;36m_do_call\u001b[0;34m(self, fn, *args)\u001b[0m\n\u001b[1;32m   1346\u001b[0m           \u001b[0;32mpass\u001b[0m\u001b[0;34m\u001b[0m\u001b[0m\n\u001b[1;32m   1347\u001b[0m       \u001b[0mmessage\u001b[0m \u001b[0;34m=\u001b[0m \u001b[0merror_interpolation\u001b[0m\u001b[0;34m.\u001b[0m\u001b[0minterpolate\u001b[0m\u001b[0;34m(\u001b[0m\u001b[0mmessage\u001b[0m\u001b[0;34m,\u001b[0m \u001b[0mself\u001b[0m\u001b[0;34m.\u001b[0m\u001b[0m_graph\u001b[0m\u001b[0;34m)\u001b[0m\u001b[0;34m\u001b[0m\u001b[0m\n\u001b[0;32m-> 1348\u001b[0;31m       \u001b[0;32mraise\u001b[0m \u001b[0mtype\u001b[0m\u001b[0;34m(\u001b[0m\u001b[0me\u001b[0m\u001b[0;34m)\u001b[0m\u001b[0;34m(\u001b[0m\u001b[0mnode_def\u001b[0m\u001b[0;34m,\u001b[0m \u001b[0mop\u001b[0m\u001b[0;34m,\u001b[0m \u001b[0mmessage\u001b[0m\u001b[0;34m)\u001b[0m\u001b[0;34m\u001b[0m\u001b[0m\n\u001b[0m\u001b[1;32m   1349\u001b[0m \u001b[0;34m\u001b[0m\u001b[0m\n\u001b[1;32m   1350\u001b[0m   \u001b[0;32mdef\u001b[0m \u001b[0m_extend_graph\u001b[0m\u001b[0;34m(\u001b[0m\u001b[0mself\u001b[0m\u001b[0;34m)\u001b[0m\u001b[0;34m:\u001b[0m\u001b[0;34m\u001b[0m\u001b[0m\n",
      "\u001b[0;31mInvalidArgumentError\u001b[0m: You must feed a value for placeholder tensor 'Placeholder_5' with dtype int32\n\t [[node Placeholder_5 (defined at <ipython-input-18-037bc8288df8>:55)  = Placeholder[dtype=DT_INT32, shape=[], _device=\"/job:localhost/replica:0/task:0/device:CPU:0\"]()]]\n\nCaused by op 'Placeholder_5', defined at:\n  File \"/Users/admin/anaconda3/lib/python3.6/runpy.py\", line 193, in _run_module_as_main\n    \"__main__\", mod_spec)\n  File \"/Users/admin/anaconda3/lib/python3.6/runpy.py\", line 85, in _run_code\n    exec(code, run_globals)\n  File \"/Users/admin/anaconda3/lib/python3.6/site-packages/ipykernel_launcher.py\", line 16, in <module>\n    app.launch_new_instance()\n  File \"/Users/admin/anaconda3/lib/python3.6/site-packages/traitlets/config/application.py\", line 658, in launch_instance\n    app.start()\n  File \"/Users/admin/anaconda3/lib/python3.6/site-packages/ipykernel/kernelapp.py\", line 478, in start\n    self.io_loop.start()\n  File \"/Users/admin/anaconda3/lib/python3.6/site-packages/zmq/eventloop/ioloop.py\", line 177, in start\n    super(ZMQIOLoop, self).start()\n  File \"/Users/admin/anaconda3/lib/python3.6/site-packages/tornado/ioloop.py\", line 888, in start\n    handler_func(fd_obj, events)\n  File \"/Users/admin/anaconda3/lib/python3.6/site-packages/tornado/stack_context.py\", line 277, in null_wrapper\n    return fn(*args, **kwargs)\n  File \"/Users/admin/anaconda3/lib/python3.6/site-packages/zmq/eventloop/zmqstream.py\", line 440, in _handle_events\n    self._handle_recv()\n  File \"/Users/admin/anaconda3/lib/python3.6/site-packages/zmq/eventloop/zmqstream.py\", line 472, in _handle_recv\n    self._run_callback(callback, msg)\n  File \"/Users/admin/anaconda3/lib/python3.6/site-packages/zmq/eventloop/zmqstream.py\", line 414, in _run_callback\n    callback(*args, **kwargs)\n  File \"/Users/admin/anaconda3/lib/python3.6/site-packages/tornado/stack_context.py\", line 277, in null_wrapper\n    return fn(*args, **kwargs)\n  File \"/Users/admin/anaconda3/lib/python3.6/site-packages/ipykernel/kernelbase.py\", line 283, in dispatcher\n    return self.dispatch_shell(stream, msg)\n  File \"/Users/admin/anaconda3/lib/python3.6/site-packages/ipykernel/kernelbase.py\", line 233, in dispatch_shell\n    handler(stream, idents, msg)\n  File \"/Users/admin/anaconda3/lib/python3.6/site-packages/ipykernel/kernelbase.py\", line 399, in execute_request\n    user_expressions, allow_stdin)\n  File \"/Users/admin/anaconda3/lib/python3.6/site-packages/ipykernel/ipkernel.py\", line 208, in do_execute\n    res = shell.run_cell(code, store_history=store_history, silent=silent)\n  File \"/Users/admin/anaconda3/lib/python3.6/site-packages/ipykernel/zmqshell.py\", line 537, in run_cell\n    return super(ZMQInteractiveShell, self).run_cell(*args, **kwargs)\n  File \"/Users/admin/anaconda3/lib/python3.6/site-packages/IPython/core/interactiveshell.py\", line 2728, in run_cell\n    interactivity=interactivity, compiler=compiler, result=result)\n  File \"/Users/admin/anaconda3/lib/python3.6/site-packages/IPython/core/interactiveshell.py\", line 2850, in run_ast_nodes\n    if self.run_code(code, result):\n  File \"/Users/admin/anaconda3/lib/python3.6/site-packages/IPython/core/interactiveshell.py\", line 2910, in run_code\n    exec(code_obj, self.user_global_ns, self.user_ns)\n  File \"<ipython-input-18-037bc8288df8>\", line 55, in <module>\n    ind = tf.placeholder(tf.int32, shape=())\n  File \"/Users/admin/anaconda3/lib/python3.6/site-packages/tensorflow/python/ops/array_ops.py\", line 1747, in placeholder\n    return gen_array_ops.placeholder(dtype=dtype, shape=shape, name=name)\n  File \"/Users/admin/anaconda3/lib/python3.6/site-packages/tensorflow/python/ops/gen_array_ops.py\", line 5206, in placeholder\n    \"Placeholder\", dtype=dtype, shape=shape, name=name)\n  File \"/Users/admin/anaconda3/lib/python3.6/site-packages/tensorflow/python/framework/op_def_library.py\", line 787, in _apply_op_helper\n    op_def=op_def)\n  File \"/Users/admin/anaconda3/lib/python3.6/site-packages/tensorflow/python/util/deprecation.py\", line 488, in new_func\n    return func(*args, **kwargs)\n  File \"/Users/admin/anaconda3/lib/python3.6/site-packages/tensorflow/python/framework/ops.py\", line 3274, in create_op\n    op_def=op_def)\n  File \"/Users/admin/anaconda3/lib/python3.6/site-packages/tensorflow/python/framework/ops.py\", line 1770, in __init__\n    self._traceback = tf_stack.extract_stack()\n\nInvalidArgumentError (see above for traceback): You must feed a value for placeholder tensor 'Placeholder_5' with dtype int32\n\t [[node Placeholder_5 (defined at <ipython-input-18-037bc8288df8>:55)  = Placeholder[dtype=DT_INT32, shape=[], _device=\"/job:localhost/replica:0/task:0/device:CPU:0\"]()]]\n"
     ]
    }
   ],
   "source": [
    "sess.run(ta_beta.eval(session=sess), feed_dict={ind: 0, Xj: x[:,0].reshape(N,1)})"
   ]
  },
  {
   "cell_type": "code",
   "execution_count": 22,
   "metadata": {
    "collapsed": true
   },
   "outputs": [
    {
     "data": {
      "text/plain": [
       "array([[ 0.37472812, -0.01490815,  0.05341799, ...,  0.05032629,\n",
       "        -0.13164973,  0.20749927],\n",
       "       [ 0.32492955, -0.11228195,  0.04306905, ..., -0.05678846,\n",
       "        -0.21546815,  0.48500025],\n",
       "       [-0.43883354, -0.00546738,  0.34341554, ...,  0.05490558,\n",
       "        -0.10741444, -0.52973205],\n",
       "       ...,\n",
       "       [-0.19081514,  0.31814242,  0.37277173, ...,  0.4871288 ,\n",
       "        -0.05311533, -0.18507684],\n",
       "       [ 0.87675278,  0.28545716,  0.33896733, ..., -0.14730054,\n",
       "        -0.13720777, -0.03107942],\n",
       "       [ 0.1742093 ,  0.27835781,  0.26125747, ..., -0.37495555,\n",
       "        -0.03863059,  0.43562146]])"
      ]
     },
     "execution_count": 22,
     "metadata": {},
     "output_type": "execute_result"
    }
   ],
   "source": [
    "x"
   ]
  },
  {
   "cell_type": "code",
   "execution_count": null,
   "metadata": {},
   "outputs": [],
   "source": []
  },
  {
   "cell_type": "code",
   "execution_count": null,
   "metadata": {},
   "outputs": [],
   "source": [
    "# Number of Gibbs sampling iterations\n",
    "num_iter = 5000\n",
    "\n",
    "with tf.Session() as sess:\n",
    "\n",
    "    # Initialize variable\n",
    "    sess.run(tf.global_variables_initializer())\n",
    "\n",
    "    # Gibbs sampler iterations\n",
    "    for i in range(num_iter):\n",
    "        print(\"Gibbs sampling iteration: \", i)\n",
    "        sess.run(emu_up)\n",
    "        #sess.run(ny_reset)\n",
    "        index = np.random.permutation(M)\n",
    "\n",
    "        for marker in index:\n",
    "            current_col = x[:,[marker]]\n",
    "            feed = {ind: marker, Xj: current_col}\n",
    "            sess.run(up_grp, feed_dict=feed)\n",
    "        sess.run(nz_up)\n",
    "        sess.run(emu_up)\n",
    "        sess.run(eps_up)\n",
    "        sess.run(s2b_up)\n",
    "        sess.run(s2e_up)\n",
    "\n",
    "        # Print operations \n",
    "        print(sess.run(print_dict))\n",
    "    \n",
    "    # End of Gibbs sampling\n",
    "    print(sess.run(Ebeta), beta_true)\n",
    "\n",
    "\n",
    "total_time =   time.clock()-start_time\n",
    "print(\"Total time: \" + str(total_time) + \"s\")"
   ]
  }
 ],
 "metadata": {
  "kernelspec": {
   "display_name": "Python 3",
   "language": "python",
   "name": "python3"
  },
  "language_info": {
   "codemirror_mode": {
    "name": "ipython",
    "version": 3
   },
   "file_extension": ".py",
   "mimetype": "text/x-python",
   "name": "python",
   "nbconvert_exporter": "python",
   "pygments_lexer": "ipython3",
   "version": "3.6.4"
  }
 },
 "nbformat": 4,
 "nbformat_minor": 2
}
