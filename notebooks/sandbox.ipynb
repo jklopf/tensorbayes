{
 "cells": [
  {
   "cell_type": "code",
   "execution_count": 1,
   "metadata": {},
   "outputs": [],
   "source": [
    "# Imports\n",
    "import tensorflow as tf\n",
    "import tensorflow_probability as tfp\n",
    "import numpy as np\n",
    "import time\n",
    "tfd = tfp.distributions"
   ]
  },
  {
   "cell_type": "code",
   "execution_count": 2,
   "metadata": {},
   "outputs": [],
   "source": [
    "# Open session\n",
    "# sess = tf.Session()"
   ]
  },
  {
   "cell_type": "code",
   "execution_count": 3,
   "metadata": {},
   "outputs": [],
   "source": [
    "# Close session\n",
    "# sess.close()"
   ]
  },
  {
   "cell_type": "code",
   "execution_count": 36,
   "metadata": {},
   "outputs": [],
   "source": [
    "# Reset graph\n",
    "# tf.reset_default_graph()"
   ]
  },
  {
   "cell_type": "code",
   "execution_count": 2,
   "metadata": {},
   "outputs": [],
   "source": [
    "testdata = tf.data.Dataset.range(5).shuffle(5).repeat(4)"
   ]
  },
  {
   "cell_type": "code",
   "execution_count": 4,
   "metadata": {
    "collapsed": true
   },
   "outputs": [
    {
     "name": "stderr",
     "output_type": "stream",
     "text": [
      "/Users/admin/anaconda3/lib/python3.6/site-packages/tensorflow/python/util/tf_inspect.py:75: DeprecationWarning: inspect.getargspec() is deprecated, use inspect.signature() or inspect.getfullargspec()\n",
      "  return _inspect.getargspec(target)\n"
     ]
    }
   ],
   "source": [
    "ne = testdata.make_one_shot_iterator().get_next()"
   ]
  },
  {
   "cell_type": "code",
   "execution_count": 16,
   "metadata": {},
   "outputs": [],
   "source": [
    "def build_toy_dataset(N, M, var_g):\n",
    "    \n",
    "    sigma_b = np.sqrt(var_g/M)\n",
    "    sigma_e = np.sqrt(1 - var_g)\n",
    "    \n",
    "    beta_true = np.random.normal(0, sigma_b , M)\n",
    "    x = sigma_b * np.random.randn(N, M) \n",
    "    y = np.dot(x, beta_true) + np.random.normal(0, sigma_e, N)\n",
    "    return np.round(x, 2), y, beta_true.reshape(M,1)\n",
    "\n",
    "\n",
    "\n",
    "# Simulated data parameters\n",
    "\n",
    "N = 5       # number of data points\n",
    "M = 5        # number of features\n",
    "var_g = 0.7   # M * var(Beta_true)"
   ]
  },
  {
   "cell_type": "code",
   "execution_count": 17,
   "metadata": {},
   "outputs": [],
   "source": [
    "x, y, beta_true = build_toy_dataset(N, M, var_g)"
   ]
  },
  {
   "cell_type": "code",
   "execution_count": 40,
   "metadata": {},
   "outputs": [
    {
     "name": "stdout",
     "output_type": "stream",
     "text": [
      "[-1.08078984  0.40867951  1.19705233 -0.23896533  0.76026264]\n"
     ]
    }
   ],
   "source": [
    "print(y)"
   ]
  },
  {
   "cell_type": "code",
   "execution_count": 18,
   "metadata": {},
   "outputs": [],
   "source": [
    "x = np.transpose(x)"
   ]
  },
  {
   "cell_type": "code",
   "execution_count": 22,
   "metadata": {},
   "outputs": [],
   "source": [
    "data = tf.data.Dataset.from_tensor_slices((tf.range(M) , x)).shuffle(M)"
   ]
  },
  {
   "cell_type": "code",
   "execution_count": null,
   "metadata": {},
   "outputs": [],
   "source": [
    "data = tf.data.Dataset.from_tensor_slices((tf.range(M) , x)).shuffle(M)"
   ]
  },
  {
   "cell_type": "code",
   "execution_count": 24,
   "metadata": {},
   "outputs": [],
   "source": [
    "data_index = tf.data.Dataset.range(M)\n",
    "data_x = tf.data.Dataset.from_tensor_slices(x)\n",
    "data = tf.data.Dataset.zip((data_index, data_x)).shuffle(M)"
   ]
  },
  {
   "cell_type": "code",
   "execution_count": 30,
   "metadata": {},
   "outputs": [],
   "source": [
    "iterator = data.make_initializable_iterator()\n",
    "ind, col = iterator.get_next()"
   ]
  },
  {
   "cell_type": "code",
   "execution_count": 38,
   "metadata": {},
   "outputs": [
    {
     "name": "stdout",
     "output_type": "stream",
     "text": [
      "for: 0\n",
      "[8, array([[ 0.2 ],\n",
      "       [-0.68],\n",
      "       [-0.43],\n",
      "       [ 0.46],\n",
      "       [ 0.64]])]\n",
      "[2, array([[-0.12],\n",
      "       [-0.77],\n",
      "       [-0.41],\n",
      "       [-0.25],\n",
      "       [ 0.55]])]\n",
      "[6, array([[-0.25],\n",
      "       [-0.3 ],\n",
      "       [-0.25],\n",
      "       [ 0.71],\n",
      "       [ 0.3 ]])]\n",
      "[4, array([[ 0.11],\n",
      "       [ 0.53],\n",
      "       [-0.17],\n",
      "       [-0.23],\n",
      "       [-0.14]])]\n",
      "[0, array([[-0.22],\n",
      "       [ 0.67],\n",
      "       [ 0.01],\n",
      "       [ 0.13],\n",
      "       [-0.28]])]\n",
      "run updates here\n",
      "for: 1\n",
      "[0, array([[-0.22],\n",
      "       [ 0.67],\n",
      "       [ 0.01],\n",
      "       [ 0.13],\n",
      "       [-0.28]])]\n",
      "[2, array([[-0.12],\n",
      "       [-0.77],\n",
      "       [-0.41],\n",
      "       [-0.25],\n",
      "       [ 0.55]])]\n",
      "[8, array([[ 0.2 ],\n",
      "       [-0.68],\n",
      "       [-0.43],\n",
      "       [ 0.46],\n",
      "       [ 0.64]])]\n",
      "[4, array([[ 0.11],\n",
      "       [ 0.53],\n",
      "       [-0.17],\n",
      "       [-0.23],\n",
      "       [-0.14]])]\n",
      "[6, array([[-0.25],\n",
      "       [-0.3 ],\n",
      "       [-0.25],\n",
      "       [ 0.71],\n",
      "       [ 0.3 ]])]\n",
      "run updates here\n",
      "for: 2\n",
      "[4, array([[ 0.11],\n",
      "       [ 0.53],\n",
      "       [-0.17],\n",
      "       [-0.23],\n",
      "       [-0.14]])]\n",
      "[8, array([[ 0.2 ],\n",
      "       [-0.68],\n",
      "       [-0.43],\n",
      "       [ 0.46],\n",
      "       [ 0.64]])]\n",
      "[0, array([[-0.22],\n",
      "       [ 0.67],\n",
      "       [ 0.01],\n",
      "       [ 0.13],\n",
      "       [-0.28]])]\n",
      "[6, array([[-0.25],\n",
      "       [-0.3 ],\n",
      "       [-0.25],\n",
      "       [ 0.71],\n",
      "       [ 0.3 ]])]\n",
      "[2, array([[-0.12],\n",
      "       [-0.77],\n",
      "       [-0.41],\n",
      "       [-0.25],\n",
      "       [ 0.55]])]\n",
      "run updates here\n",
      "for: 3\n",
      "[4, array([[ 0.11],\n",
      "       [ 0.53],\n",
      "       [-0.17],\n",
      "       [-0.23],\n",
      "       [-0.14]])]\n",
      "[6, array([[-0.25],\n",
      "       [-0.3 ],\n",
      "       [-0.25],\n",
      "       [ 0.71],\n",
      "       [ 0.3 ]])]\n",
      "[0, array([[-0.22],\n",
      "       [ 0.67],\n",
      "       [ 0.01],\n",
      "       [ 0.13],\n",
      "       [-0.28]])]\n",
      "[8, array([[ 0.2 ],\n",
      "       [-0.68],\n",
      "       [-0.43],\n",
      "       [ 0.46],\n",
      "       [ 0.64]])]\n",
      "[2, array([[-0.12],\n",
      "       [-0.77],\n",
      "       [-0.41],\n",
      "       [-0.25],\n",
      "       [ 0.55]])]\n",
      "run updates here\n"
     ]
    }
   ],
   "source": [
    "iterator = data.make_initializable_iterator()\n",
    "ind, col = iterator.get_next()\n",
    "data_index = tf.data.Dataset.range(M)\n",
    "data_x = tf.data.Dataset.from_tensor_slices(x)\n",
    "data = tf.data.Dataset.zip((data_index, data_x)).shuffle(M)\n",
    "i2 = ind * 2\n",
    "colx = tf.reshape(col, [N,1])\n",
    "\n",
    "# Launch of session\n",
    "with tf.Session() as sess:\n",
    "    \n",
    "    for i in range(4):\n",
    "        \n",
    "        sess.run(iterator.initializer)\n",
    "        print('for:', i)\n",
    "        \n",
    "\n",
    "        while True: # Loop on 'col_next', the queue of column iterator\n",
    "            try:\n",
    "                print(sess.run([i2,colx]))\n",
    "\n",
    "            except tf.errors.OutOfRangeError:\n",
    "                \n",
    "                print(\"run updates here\")\n",
    "                break\n"
   ]
  },
  {
   "cell_type": "code",
   "execution_count": null,
   "metadata": {},
   "outputs": [],
   "source": []
  },
  {
   "cell_type": "code",
   "execution_count": null,
   "metadata": {},
   "outputs": [],
   "source": []
  },
  {
   "cell_type": "code",
   "execution_count": null,
   "metadata": {},
   "outputs": [],
   "source": []
  },
  {
   "cell_type": "code",
   "execution_count": null,
   "metadata": {},
   "outputs": [],
   "source": []
  },
  {
   "cell_type": "code",
   "execution_count": null,
   "metadata": {},
   "outputs": [],
   "source": []
  },
  {
   "cell_type": "code",
   "execution_count": null,
   "metadata": {},
   "outputs": [],
   "source": []
  },
  {
   "cell_type": "code",
   "execution_count": null,
   "metadata": {},
   "outputs": [],
   "source": []
  },
  {
   "cell_type": "code",
   "execution_count": 6,
   "metadata": {},
   "outputs": [
    {
     "name": "stdout",
     "output_type": "stream",
     "text": [
      "3\n",
      "4\n",
      "2\n",
      "5\n",
      "1\n",
      "2\n",
      "3\n",
      "5\n",
      "1\n",
      "4\n",
      "5\n",
      "3\n",
      "2\n",
      "4\n",
      "1\n",
      "5\n",
      "3\n",
      "4\n",
      "1\n",
      "2\n"
     ]
    }
   ],
   "source": [
    "# Launch of session\n",
    "with tf.Session() as sess:\n",
    "\n",
    "    while True: # Loop on 'col_next', the queue of column iterator\n",
    "        try:\n",
    "            var = ne + 1\n",
    "            print(sess.run(var))\n",
    "            \n",
    "        except tf.errors.OutOfRangeError:\n",
    "            break\n",
    "\n",
    "\n"
   ]
  },
  {
   "cell_type": "code",
   "execution_count": null,
   "metadata": {},
   "outputs": [],
   "source": []
  }
 ],
 "metadata": {
  "kernelspec": {
   "display_name": "Python 3",
   "language": "python",
   "name": "python3"
  },
  "language_info": {
   "codemirror_mode": {
    "name": "ipython",
    "version": 3
   },
   "file_extension": ".py",
   "mimetype": "text/x-python",
   "name": "python",
   "nbconvert_exporter": "python",
   "pygments_lexer": "ipython3",
   "version": "3.6.4"
  }
 },
 "nbformat": 4,
 "nbformat_minor": 2
}
