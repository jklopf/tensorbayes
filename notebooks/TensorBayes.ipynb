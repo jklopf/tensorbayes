{
 "cells": [
  {
   "cell_type": "markdown",
   "metadata": {},
   "source": [
    "# TensorBayes\n",
    "\n",
    "### Adaptation of `BayesC.cpp`\n",
    "\n"
   ]
  },
  {
   "cell_type": "markdown",
   "metadata": {},
   "source": [
    "## Imports"
   ]
  },
  {
   "cell_type": "code",
   "execution_count": 41,
   "metadata": {},
   "outputs": [],
   "source": [
    "import tensorflow as tf"
   ]
  },
  {
   "cell_type": "code",
   "execution_count": 3,
   "metadata": {},
   "outputs": [],
   "source": [
    "import tensorflow_probability as tfp"
   ]
  },
  {
   "cell_type": "code",
   "execution_count": 2,
   "metadata": {},
   "outputs": [],
   "source": [
    "import numpy as np"
   ]
  },
  {
   "cell_type": "code",
   "execution_count": 4,
   "metadata": {},
   "outputs": [],
   "source": [
    "tfd = tfp.distributions"
   ]
  },
  {
   "cell_type": "markdown",
   "metadata": {},
   "source": [
    "## File input\n",
    "\n",
    "To do"
   ]
  },
  {
   "cell_type": "code",
   "execution_count": 2,
   "metadata": {
    "collapsed": true
   },
   "outputs": [
    {
     "ename": "FileNotFoundError",
     "evalue": "[Errno 2] No such file or directory: 'ex.csv'",
     "output_type": "error",
     "traceback": [
      "\u001b[0;31m---------------------------------------------------------------------------\u001b[0m",
      "\u001b[0;31mFileNotFoundError\u001b[0m                         Traceback (most recent call last)",
      "\u001b[0;32m<ipython-input-2-61ac0dba8930>\u001b[0m in \u001b[0;36m<module>\u001b[0;34m()\u001b[0m\n\u001b[1;32m      1\u001b[0m \u001b[0;31m# Get the numbers of columns in the csv:\u001b[0m\u001b[0;34m\u001b[0m\u001b[0;34m\u001b[0m\u001b[0m\n\u001b[1;32m      2\u001b[0m \u001b[0;34m\u001b[0m\u001b[0m\n\u001b[0;32m----> 3\u001b[0;31m \u001b[0mcsv_in\u001b[0m \u001b[0;34m=\u001b[0m \u001b[0mopen\u001b[0m\u001b[0;34m(\u001b[0m\u001b[0;34m\"ex.csv\"\u001b[0m\u001b[0;34m,\u001b[0m \u001b[0;34m\"r\"\u001b[0m\u001b[0;34m)\u001b[0m                        \u001b[0;31m# open the csv\u001b[0m\u001b[0;34m\u001b[0m\u001b[0m\n\u001b[0m\u001b[1;32m      4\u001b[0m \u001b[0mncol\u001b[0m \u001b[0;34m=\u001b[0m \u001b[0mlen\u001b[0m\u001b[0;34m(\u001b[0m\u001b[0mcsv_in\u001b[0m\u001b[0;34m.\u001b[0m\u001b[0mreadline\u001b[0m\u001b[0;34m(\u001b[0m\u001b[0;34m)\u001b[0m\u001b[0;34m.\u001b[0m\u001b[0msplit\u001b[0m\u001b[0;34m(\u001b[0m\u001b[0;34m\",\"\u001b[0m\u001b[0;34m)\u001b[0m\u001b[0;34m)\u001b[0m            \u001b[0;31m# read the first line and count the # of columns\u001b[0m\u001b[0;34m\u001b[0m\u001b[0m\n\u001b[1;32m      5\u001b[0m \u001b[0mcsv_in\u001b[0m\u001b[0;34m.\u001b[0m\u001b[0mclose\u001b[0m\u001b[0;34m(\u001b[0m\u001b[0;34m)\u001b[0m                                      \u001b[0;31m# close the csv\u001b[0m\u001b[0;34m\u001b[0m\u001b[0m\n",
      "\u001b[0;31mFileNotFoundError\u001b[0m: [Errno 2] No such file or directory: 'ex.csv'"
     ]
    }
   ],
   "source": [
    "# Get the numbers of columns in the csv:\n",
    "# File I/O here \n",
    "filenames = \"\"\n",
    "\n",
    "csv_in = open(filenames, \"r\")                        # open the csv\n",
    "ncol = len(csv_in.readline().split(\",\"))            # read the first line and count the # of columns\n",
    "csv_in.close()                                      # close the csv\n",
    "print(\"Number of columns in the csv: \" + str(ncol)) # print the # of columns"
   ]
  },
  {
   "cell_type": "markdown",
   "metadata": {},
   "source": [
    "## Reproducibility\n",
    "\n",
    "Seed setting for reproducable research."
   ]
  },
  {
   "cell_type": "code",
   "execution_count": 105,
   "metadata": {},
   "outputs": [],
   "source": [
    "# To do: get a numpy seed or look at how TF implements rng.\n",
    "\n",
    "# each distributions.sample() seen below can be seedeed.\n",
    "# ex. dist.sample(seed=32): return a sample of shape=() (scalar).\n",
    "\n",
    "# Set graph-level seed\n",
    "tf.set_random_seed(1234)"
   ]
  },
  {
   "cell_type": "markdown",
   "metadata": {},
   "source": [
    "## Distributions functions\n",
    "\n",
    "- Random Uniform:   \n",
    "return a sample from a uniform distribution of limits parameter `lower ` and `higher`.\n",
    "   \n",
    "   \n",
    "- Random Normal:   \n",
    "return a sample from a normal distribution of parameter `mean` and `standard deviation`.\n",
    "   \n",
    "   \n",
    "- Random Beta:   \n",
    "return a random quantile of a beta distribution of parameter `alpha` and `beta`.\n",
    "   \n",
    "   \n",
    "- Random Inversed Chi$^2$:   \n",
    "return a random quantile of a inversed chi$^2$ distribution of parameter `degrees of freedom` and `scale`.\n",
    "   \n",
    "   \n",
    "- Random Bernoulli:   \n",
    "return a sample from a bernoulli distribution of probability of sucess `p`.\n",
    "   \n",
    "   "
   ]
  },
  {
   "cell_type": "code",
   "execution_count": 69,
   "metadata": {},
   "outputs": [],
   "source": [
    "# Note: written as a translation of BayesC.cpp\n",
    "# the function definitions might not be needeed,\n",
    "# and the declarations of the distributions could be enough\n",
    "\n",
    "def runif(lower, higher):\n",
    "    dist = tfd.Uniform(lower, higher)\n",
    "    return dist.sample()\n",
    "\n",
    "def rnorm(mean, sd):\n",
    "    dist = tfd.Normal(loc= mean, scale= sd)\n",
    "    return dist.sample()\n",
    "\n",
    "def rbeta(alpha, beta):\n",
    "    dist = tfd.Beta(float(alpha), float(beta))\n",
    "    return dist.sample()\n",
    "\n",
    "def rinvchisq(df, scale):\n",
    "    dist = tfd.InverseGamma(df*0.5, df*scale*0.5)\n",
    "    return dist.sample()\n",
    "\n",
    "def rbernoulli(p):\n",
    "    dist = tfd.Bernoulli(probs=p)\n",
    "    return dist.sample()\n"
   ]
  },
  {
   "cell_type": "markdown",
   "metadata": {},
   "source": [
    "## Sampling functions\n",
    "\n",
    "- Sampling of the mean   \n",
    "     \n",
    "    \n",
    "- Sampling of the variance of beta   \n",
    "   \n",
    "   \n",
    "- Sampling of the error variance of Y   \n",
    "   \n",
    "   \n",
    "- Sample of the mixture weight   \n",
    "   \n",
    "   "
   ]
  },
  {
   "cell_type": "code",
   "execution_count": 32,
   "metadata": {},
   "outputs": [],
   "source": [
    "# sample mean\n",
    "def sample_mu(N, Esigma2, Y, X, beta): #as in BayesC, with the N parameter\n",
    "    mean = tf.reduce_sum(tf.subtract(Y, tf.matmul(X, beta)))/N\n",
    "    sd = tf.sqrt(Esigma2/N)\n",
    "    mu = rnorm(mean, sd)\n",
    "    return mu\n",
    "\n",
    "# sample variance of beta\n",
    "def sample_psi2_chisq( beta, NZ, v0B, s0B):\n",
    "    df=v0B+NZ\n",
    "    scale=(tf.nn.l2_loss(beta)*2*NZ+v0B*s0B)/(v0B+NZ)\n",
    "    psi2=rinvchisq(df, scale)\n",
    "    return(psi2)\n",
    "\n",
    "\n",
    "# sample error variance of Y\n",
    "def sample_sigma_chisq( N, epsilon, v0E, s0E):\n",
    "    sigma2=rinvchisq(v0E+N, (tf.nn.l2_loss(epsilon)*2+v0E*s0E)/(v0E+N))\n",
    "    return(sigma2)\n",
    "\n",
    "\n",
    "# sample mixture weight\n",
    "def sample_w( M, NZ):\n",
    "    w=rbeta(1+NZ,1+(M-NZ))\n",
    "    return(w)\n",
    "\n",
    "\n",
    "    \n",
    "    \n",
    "    "
   ]
  },
  {
   "cell_type": "markdown",
   "metadata": {},
   "source": [
    "## Simulate data"
   ]
  },
  {
   "cell_type": "code",
   "execution_count": 97,
   "metadata": {},
   "outputs": [],
   "source": [
    "def build_toy_dataset(N, beta, sigmaY_true=1):\n",
    "    \n",
    "    features = len(beta)\n",
    "    x = np.random.randn(N, features)\n",
    "    y = np.dot(x, beta) + np.random.normal(0, sigmaY_true, size=N)\n",
    "    return x, y\n",
    "\n",
    "N = 40  # number of data points\n",
    "M = 10  # number of features\n",
    "\n",
    "beta_true = np.random.randn(M)\n",
    "x, y = build_toy_dataset(N, beta_true)\n",
    "\n"
   ]
  },
  {
   "cell_type": "code",
   "execution_count": null,
   "metadata": {},
   "outputs": [],
   "source": [
    "# Could be implemented:\n",
    "# building datasets using TF API without numpy\n",
    "\n"
   ]
  },
  {
   "cell_type": "code",
   "execution_count": 50,
   "metadata": {},
   "outputs": [],
   "source": [
    "X = tf.constant(x, shape=[N,M], dtype=tf.float32)"
   ]
  },
  {
   "cell_type": "code",
   "execution_count": 53,
   "metadata": {},
   "outputs": [],
   "source": [
    "Y = tf.constant(y, shape = [N,1], dtype=tf.float32)"
   ]
  },
  {
   "cell_type": "code",
   "execution_count": 70,
   "metadata": {},
   "outputs": [],
   "source": [
    "bte = rbeta(1,1)"
   ]
  },
  {
   "cell_type": "code",
   "execution_count": 71,
   "metadata": {},
   "outputs": [
    {
     "data": {
      "text/plain": [
       "<tf.Tensor 'Beta_6/sample/Reshape:0' shape=() dtype=float32>"
      ]
     },
     "execution_count": 71,
     "metadata": {},
     "output_type": "execute_result"
    }
   ],
   "source": [
    "bte"
   ]
  },
  {
   "cell_type": "markdown",
   "metadata": {},
   "source": [
    "## Parameters setup"
   ]
  },
  {
   "cell_type": "code",
   "execution_count": 174,
   "metadata": {},
   "outputs": [],
   "source": [
    "# Distinction between constant and variables\n",
    "# Variables: values might change between evaluation of the graph\n",
    "# (if something changes within the graph, it should be a variable)\n",
    "\n",
    "Emu = tf.Variable(0., trainable=False)\n",
    "vEmu = tf.ones([N,1])\n",
    "Ebeta = tf.zeros([M,1])\n",
    "ny = tf.zeros(M)\n",
    "Ew = tf.constant(0.)\n",
    "epsilon = Y - tf.matmul(X,Ebeta) - vEmu*Emu\n",
    "NZ = tf.constant([0])\n",
    "\n",
    "Esigma2 = tf.nn.l2_loss(epsilon)/N\n",
    "Epsi2 = rbeta(1.,1.)\n",
    "\n"
   ]
  },
  {
   "cell_type": "code",
   "execution_count": 175,
   "metadata": {},
   "outputs": [
    {
     "data": {
      "text/plain": [
       "<tf.Tensor 'sub_47:0' shape=(40, 1) dtype=float32>"
      ]
     },
     "execution_count": 175,
     "metadata": {},
     "output_type": "execute_result"
    }
   ],
   "source": [
    "epsilon"
   ]
  },
  {
   "cell_type": "code",
   "execution_count": 98,
   "metadata": {
    "collapsed": true
   },
   "outputs": [
    {
     "data": {
      "text/plain": [
       "array([[-6.60579988e-01,  7.58302101e-01, -1.46788153e+00,\n",
       "         3.39468405e-01,  1.16851946e+00, -2.48167299e-01,\n",
       "        -6.30222325e-02,  6.72205190e-01,  2.44077392e+00,\n",
       "         3.73492468e-02],\n",
       "       [-4.49426602e-02, -8.28326650e-01, -7.21325989e-01,\n",
       "         7.97508664e-01, -3.44951993e-01,  1.50063397e+00,\n",
       "         1.24184652e+00,  1.64965709e+00, -4.94530112e-01,\n",
       "         1.31747232e+00],\n",
       "       [ 7.67430954e-01, -8.22647344e-01,  3.64923218e-01,\n",
       "        -2.61833708e+00,  6.06119570e-01,  1.01787381e+00,\n",
       "        -4.75207372e-01,  3.41966199e-01,  3.60929669e-01,\n",
       "         5.59454253e-01],\n",
       "       [-1.23792939e+00,  6.29173946e-02, -9.43314026e-01,\n",
       "         8.86816953e-01, -1.05571162e+00,  1.02948422e+00,\n",
       "        -9.26553113e-01, -5.32414939e-01,  1.82831924e+00,\n",
       "         1.19360489e+00],\n",
       "       [-2.52634278e-01,  1.44455724e+00, -5.17208672e-01,\n",
       "         1.51671664e+00, -1.04004853e+00,  3.32540043e-01,\n",
       "         5.40992697e-01,  2.15210146e+00,  1.23437321e+00,\n",
       "         9.45650202e-01],\n",
       "       [ 1.03832318e+00,  1.10150145e+00,  5.29842814e-01,\n",
       "        -4.46872046e-01,  1.23929791e+00,  1.00424728e+00,\n",
       "         1.19371210e+00,  1.15736742e+00,  1.23619141e+00,\n",
       "        -1.22229882e+00],\n",
       "       [ 1.44671619e+00,  1.13759477e-01,  1.97031354e-01,\n",
       "         2.43939065e-01,  3.25870750e-01,  3.79939062e-02,\n",
       "         1.81813726e+00,  7.95458303e-01,  1.64030666e-01,\n",
       "        -1.97388224e+00],\n",
       "       [-5.33202593e-01,  1.35142476e+00,  2.71031322e-01,\n",
       "        -5.13114699e-01,  1.21049543e+00, -1.71985876e+00,\n",
       "         1.83663922e-02,  1.86804734e+00, -4.62698235e-01,\n",
       "         9.59473482e-01],\n",
       "       [ 2.89520479e-02,  1.18993875e-01, -7.32555773e-01,\n",
       "        -1.41464142e-01,  9.11730946e-01,  3.90246277e-01,\n",
       "        -1.15920297e+00,  1.39815009e+00,  3.48539261e-01,\n",
       "         8.11216706e-01],\n",
       "       [-6.56942669e-01, -1.68638943e-01,  4.42863444e-02,\n",
       "         9.50694716e-01,  4.04444176e-01, -2.82712356e-01,\n",
       "         8.15412370e-01, -1.36415984e+00, -6.80692703e-01,\n",
       "        -6.61004655e-01],\n",
       "       [-9.43843438e-02,  1.47862908e+00,  5.98874776e-01,\n",
       "        -4.10741616e-01,  9.93929833e-01, -2.88141041e-01,\n",
       "         6.39939808e-01,  1.24021279e+00,  3.50597486e-01,\n",
       "        -1.28656519e+00],\n",
       "       [-2.21644827e-01,  1.13290852e-01,  3.68112289e-02,\n",
       "        -1.65269689e+00, -1.91430427e-02,  5.39993450e-01,\n",
       "         8.72833876e-01,  1.34212257e+00, -9.80219422e-01,\n",
       "        -5.30398588e-01],\n",
       "       [ 2.95419832e-01,  1.04151969e+00,  1.06671463e+00,\n",
       "         1.05963480e+00,  2.40658557e+00,  6.51115443e-01,\n",
       "        -2.45435802e-01,  4.72565289e-01, -1.15217159e-01,\n",
       "        -6.49479664e-01],\n",
       "       [-1.41716065e+00,  9.84067853e-01, -1.27170024e+00,\n",
       "        -2.93402583e-01,  2.80669309e-01,  4.10493735e-01,\n",
       "         1.13769962e+00,  1.22734992e+00,  1.56583268e+00,\n",
       "        -1.61630538e-01],\n",
       "       [ 6.27995453e-02, -2.81809819e-01, -6.68921267e-02,\n",
       "         1.90583454e+00, -1.02441751e+00, -1.12734948e+00,\n",
       "         3.01123771e-02, -1.69168533e+00,  9.45891738e-01,\n",
       "         1.19462230e+00],\n",
       "       [ 1.45296455e+00, -6.18280584e-01,  9.44521311e-01,\n",
       "         3.88937517e-01,  6.56245963e-01, -1.40286703e-01,\n",
       "         6.91500403e-01,  6.29550060e-01, -9.10740688e-01,\n",
       "         9.55755270e-01],\n",
       "       [ 7.03821686e-01, -5.23131135e-01,  6.39449654e-01,\n",
       "         1.14477195e+00, -1.48300314e+00, -1.15081637e+00,\n",
       "        -8.09605464e-01, -6.18105162e-01, -6.04341976e-01,\n",
       "         1.99127134e-03],\n",
       "       [ 6.31631002e-01, -3.45640113e-01,  2.30844370e-02,\n",
       "        -5.88867406e-01, -1.07060445e+00,  9.57266509e-01,\n",
       "         7.56127917e-01, -1.99160412e+00,  1.17691931e+00,\n",
       "        -4.78630540e-01],\n",
       "       [ 6.27762971e-01, -1.03258260e-01,  1.87802132e+00,\n",
       "        -6.21530307e-01,  1.01236701e+00,  3.68171055e+00,\n",
       "        -8.80291120e-02,  1.22551346e+00, -4.29756615e-01,\n",
       "        -5.41366021e-01],\n",
       "       [ 1.16946271e+00,  4.10663304e-01, -6.73696653e-02,\n",
       "        -1.59352153e+00,  3.71877049e-01,  2.88967906e+00,\n",
       "         7.03816146e-01,  4.23306724e-01, -7.39198811e-01,\n",
       "        -4.33024035e-01],\n",
       "       [-7.56319593e-01, -9.63497652e-02, -5.37198363e-01,\n",
       "         2.38893580e+00, -1.64416017e+00,  2.15282429e+00,\n",
       "         2.54566115e-01,  2.43405658e+00, -4.42995762e-01,\n",
       "        -1.18775231e+00],\n",
       "       [-1.31055563e+00, -9.73540943e-01,  8.75178651e-01,\n",
       "         1.32007973e+00,  1.84063073e-01, -1.78660313e+00,\n",
       "        -5.39465865e-01, -1.00659261e+00,  4.06722988e-01,\n",
       "         1.03294009e+00],\n",
       "       [ 6.90111600e-01, -7.19610128e-01,  5.47799291e-01,\n",
       "        -1.20571839e+00,  6.45282086e-01,  3.00924208e-01,\n",
       "        -9.34122054e-01, -1.35762241e+00, -3.98001482e-01,\n",
       "        -7.49017694e-01],\n",
       "       [-3.62005679e-01,  1.41241842e+00,  2.86078825e-01,\n",
       "         3.26206334e-01, -5.36730730e-01, -2.22114280e-01,\n",
       "         5.22450261e-01, -1.13636293e+00, -6.35374404e-01,\n",
       "        -6.72965522e-01],\n",
       "       [-1.32876503e+00,  1.65226378e-01,  3.35147260e-01,\n",
       "        -4.79798667e-01, -9.14538574e-01,  6.40456505e-01,\n",
       "        -9.63655575e-01, -3.79782018e-01, -6.81320721e-01,\n",
       "         6.73779677e-01],\n",
       "       [-8.12497713e-01, -1.89336803e+00, -5.40188917e-01,\n",
       "         1.15592224e+00, -1.06302113e+00, -2.97759555e-01,\n",
       "        -1.45673148e+00, -7.69698901e-01, -8.06400167e-01,\n",
       "         1.70622562e-01],\n",
       "       [-1.12611032e+00,  1.46366138e+00,  2.93806548e-01,\n",
       "         7.70641465e-01,  1.31540229e-01,  1.41471450e-01,\n",
       "         1.80106951e-02,  1.03232987e+00,  1.22613303e+00,\n",
       "        -2.53485798e-01],\n",
       "       [-1.29144316e+00,  6.22788963e-03,  8.29951574e-01,\n",
       "        -2.42794204e+00,  1.24373754e+00, -5.38451376e-01,\n",
       "         9.91214719e-01, -1.08841619e+00,  5.19275234e-01,\n",
       "         8.99808007e-01],\n",
       "       [-5.77098350e-01,  3.44957593e-01,  6.54808717e-02,\n",
       "         1.91220237e+00, -1.07191280e+00, -8.10767112e-01,\n",
       "        -3.37584903e-03,  1.58108341e+00, -2.37611331e-01,\n",
       "         5.73672986e-01],\n",
       "       [-7.61759318e-01, -8.67867650e-01,  3.09780417e-01,\n",
       "         1.40608387e+00, -7.63189427e-01,  7.60686742e-01,\n",
       "         1.44094875e+00, -1.99127647e-01, -1.90782887e-01,\n",
       "        -2.03649520e+00],\n",
       "       [ 1.03908047e+00,  1.76149705e-01, -3.78444480e-01,\n",
       "        -1.71580710e+00, -1.92644335e+00,  2.67619289e-01,\n",
       "        -7.15808615e-01,  3.69422225e-02, -9.89292369e-01,\n",
       "        -3.03460395e-01],\n",
       "       [-7.05533672e-02, -1.10104092e-01,  2.22868518e-02,\n",
       "        -1.01913171e+00,  1.35617383e-01, -7.56718145e-01,\n",
       "        -1.17965289e+00, -1.28431599e+00, -3.85487725e-03,\n",
       "        -1.52528187e+00],\n",
       "       [-3.44826543e-01, -1.04416050e+00,  8.09142931e-01,\n",
       "         1.18808267e+00, -1.41931408e+00, -4.25385005e-01,\n",
       "         4.91618718e-01,  3.26228610e-01,  1.29740924e+00,\n",
       "        -1.78179258e+00],\n",
       "       [-3.18279860e-01,  2.49703337e-01,  4.85092993e-01,\n",
       "        -4.65584020e-01,  1.12912338e+00, -1.68811283e-01,\n",
       "         1.27412402e+00,  6.58808718e-01, -3.58815931e-01,\n",
       "        -7.09013946e-01],\n",
       "       [-1.07006112e+00, -5.90030990e-01,  3.96072217e-01,\n",
       "        -2.37431826e-01, -7.59338634e-02,  1.51912418e-01,\n",
       "        -1.25823104e+00,  1.79698252e+00, -2.83031547e-01,\n",
       "         6.23922877e-01],\n",
       "       [-7.10076268e-02,  1.02853194e+00, -4.01125455e-01,\n",
       "        -1.99690408e-01, -6.69482060e-01,  1.64283249e+00,\n",
       "         3.47311040e-01, -9.79464053e-01, -2.53706350e-01,\n",
       "        -1.45800414e+00],\n",
       "       [ 8.05571634e-02,  5.29376315e-01, -5.52194381e-01,\n",
       "        -6.08631184e-01, -1.53637493e+00,  1.59148982e+00,\n",
       "        -8.68124012e-01,  1.06698014e+00,  8.83408180e-01,\n",
       "        -9.31651106e-01],\n",
       "       [-3.97144695e-01, -4.75287754e-01,  9.39261463e-01,\n",
       "         1.10735460e+00, -9.08159050e-01,  1.57259513e+00,\n",
       "         1.92642973e-02,  4.01775175e-01, -1.16004139e+00,\n",
       "        -2.65178725e+00],\n",
       "       [-1.54728914e+00,  2.97893929e-01, -3.08411968e-01,\n",
       "        -8.73317652e-01, -3.34104601e-01, -1.70465385e-01,\n",
       "         1.75194240e+00,  3.66235296e-01,  8.22527383e-01,\n",
       "         1.76634219e-01],\n",
       "       [ 3.85848613e-01, -5.89917757e-01,  4.72884232e-01,\n",
       "         5.65701426e-01,  1.39549876e+00,  1.08888288e+00,\n",
       "        -2.02149064e+00,  2.85517671e-01,  3.84520029e-01,\n",
       "        -1.32838524e+00]])"
      ]
     },
     "execution_count": 98,
     "metadata": {},
     "output_type": "execute_result"
    }
   ],
   "source": [
    "x"
   ]
  },
  {
   "cell_type": "code",
   "execution_count": 94,
   "metadata": {},
   "outputs": [],
   "source": [
    "#Standard parameterization of hyperpriors for variances\n",
    "#double v0E=0.001,s0E=0.001,v0B=0.001,s0B=0.001;\n",
    "\n",
    "#Alternative parameterization of hyperpriors for variances\n",
    "v0E, v0B = 4, 4\n",
    "s0B=((v0B-2)/v0B)*Epsi2\n",
    "s0E=((v0E-2)/v0E)*Esigma2"
   ]
  },
  {
   "cell_type": "code",
   "execution_count": 102,
   "metadata": {},
   "outputs": [],
   "source": [
    "# pre-computed elements for calculations\n",
    "el1 = tf.matmul(tf.transpose(X),X)"
   ]
  },
  {
   "cell_type": "code",
   "execution_count": 104,
   "metadata": {},
   "outputs": [
    {
     "data": {
      "text/plain": [
       "<tf.Tensor 'MatMul_14:0' shape=(10, 10) dtype=float32>"
      ]
     },
     "execution_count": 104,
     "metadata": {},
     "output_type": "execute_result"
    }
   ],
   "source": []
  },
  {
   "cell_type": "code",
   "execution_count": 182,
   "metadata": {},
   "outputs": [
    {
     "data": {
      "text/plain": [
       "<tf.Tensor 'add_12:0' shape=(40,) dtype=float32>"
      ]
     },
     "execution_count": 182,
     "metadata": {},
     "output_type": "execute_result"
    }
   ],
   "source": [
    "epsilon"
   ]
  },
  {
   "cell_type": "markdown",
   "metadata": {},
   "source": [
    "## Tensorboard graph"
   ]
  },
  {
   "cell_type": "code",
   "execution_count": 76,
   "metadata": {},
   "outputs": [],
   "source": [
    "writer = tf.summary.FileWriter('.')\n",
    "writer.add_graph(tf.get_default_graph())"
   ]
  },
  {
   "cell_type": "markdown",
   "metadata": {},
   "source": [
    "## Gibbs sampling"
   ]
  },
  {
   "cell_type": "code",
   "execution_count": 126,
   "metadata": {},
   "outputs": [],
   "source": [
    "# Open session\n",
    "sess = tf.Session()"
   ]
  },
  {
   "cell_type": "code",
   "execution_count": 194,
   "metadata": {},
   "outputs": [],
   "source": [
    "# Initialize variables\n",
    "init = tf.global_variables_initializer()\n",
    "sess.run(init)"
   ]
  },
  {
   "cell_type": "code",
   "execution_count": 29,
   "metadata": {},
   "outputs": [],
   "source": [
    "num_iter = 50"
   ]
  },
  {
   "cell_type": "code",
   "execution_count": 195,
   "metadata": {},
   "outputs": [
    {
     "name": "stdout",
     "output_type": "stream",
     "text": [
      "[]\n"
     ]
    }
   ],
   "source": [
    "print(sess.run(tf.report_uninitialized_variables()))\n"
   ]
  },
  {
   "cell_type": "code",
   "execution_count": 221,
   "metadata": {},
   "outputs": [],
   "source": [
    "#debug for just 1 marker 0\n",
    "epsilon = tf.add(epsilon, X[:,0]*Ebeta[0])\n",
    "Cj=tf.nn.l2_loss(X[:,0])*2+Esigma2/Epsi2 #adjusted variance\n",
    "rj= tf.matmul(tf.reshape(X[:,0], [1,N]),tf.reshape(epsilon, [N,1])) # mean\n",
    "\n",
    "ratio=((tf.exp(-(tf.pow(rj,2))/(2*Cj*Esigma2))*tf.sqrt((Epsi2*Cj)/Esigma2)))\n",
    "\n",
    "ratio=Ew/(Ew+ratio*(1-Ew))"
   ]
  },
  {
   "cell_type": "code",
   "execution_count": null,
   "metadata": {},
   "outputs": [],
   "source": [
    "if (ny[marker]==0):\n",
    "\n",
    "    Ebeta[j]=0\n",
    "elif (ny[j]==1):\n",
    "    Ebeta[j]=rnorm(rj/Cj,Esigma2/Cj)\n",
    "    update = epsilon-X.col(j)*Ebeta[j]\n",
    "    sess.run(tf.assign(epsilon,update)) "
   ]
  },
  {
   "cell_type": "code",
   "execution_count": 121,
   "metadata": {},
   "outputs": [
    {
     "data": {
      "text/plain": [
       "<tf.Tensor 'add_6:0' shape=(40, 40) dtype=float32>"
      ]
     },
     "execution_count": 121,
     "metadata": {},
     "output_type": "execute_result"
    }
   ],
   "source": [
    "epsilon = tf.multiply(X[:,0],Ebeta[0])\n",
    "epsilon"
   ]
  },
  {
   "cell_type": "code",
   "execution_count": 223,
   "metadata": {},
   "outputs": [],
   "source": [
    "\n",
    "\n",
    "\n",
    "b0 = rnorm(rj/Cj,Esigma2/Cj)"
   ]
  },
  {
   "cell_type": "code",
   "execution_count": 224,
   "metadata": {},
   "outputs": [
    {
     "data": {
      "text/plain": [
       "array([[-1.687462]], dtype=float32)"
      ]
     },
     "execution_count": 224,
     "metadata": {},
     "output_type": "execute_result"
    }
   ],
   "source": [
    "b00 = sess.run(b0)\n",
    "b00"
   ]
  },
  {
   "cell_type": "code",
   "execution_count": 215,
   "metadata": {},
   "outputs": [
    {
     "data": {
      "text/plain": [
       "array([49.47475   ,  8.496997  ,  9.86839   , -1.4946489 ,  9.589608  ,\n",
       "       10.245047  , -0.40934944, 12.744787  , 21.020695  ,  8.410867  ],\n",
       "      dtype=float32)"
      ]
     },
     "execution_count": 215,
     "metadata": {},
     "output_type": "execute_result"
    }
   ],
   "source": [
    "sess.run(Cj)"
   ]
  },
  {
   "cell_type": "code",
   "execution_count": 211,
   "metadata": {},
   "outputs": [
    {
     "data": {
      "text/plain": [
       "1.5368366"
      ]
     },
     "execution_count": 211,
     "metadata": {},
     "output_type": "execute_result"
    }
   ],
   "source": [
    "ww = sess.run(rnorm(1.,1.))\n",
    "ww"
   ]
  },
  {
   "cell_type": "code",
   "execution_count": null,
   "metadata": {},
   "outputs": [],
   "source": []
  },
  {
   "cell_type": "code",
   "execution_count": 173,
   "metadata": {
    "collapsed": true
   },
   "outputs": [
    {
     "ename": "ValueError",
     "evalue": "Dimension 1 in both shapes must be equal, but are 1 and 40. Shapes are [40,1] and [40,40]. for 'Assign' (op: 'Assign') with input shapes: [40,1], [40,40].",
     "output_type": "error",
     "traceback": [
      "\u001b[0;31m---------------------------------------------------------------------------\u001b[0m",
      "\u001b[0;31mInvalidArgumentError\u001b[0m                      Traceback (most recent call last)",
      "\u001b[0;32m~/anaconda3/lib/python3.6/site-packages/tensorflow/python/framework/ops.py\u001b[0m in \u001b[0;36m_create_c_op\u001b[0;34m(graph, node_def, inputs, control_inputs)\u001b[0m\n\u001b[1;32m   1575\u001b[0m       \u001b[0mnode_def\u001b[0m\u001b[0;34m.\u001b[0m\u001b[0mdevice\u001b[0m \u001b[0;34m=\u001b[0m \u001b[0mdevice\u001b[0m\u001b[0;34m(\u001b[0m\u001b[0mnode_def\u001b[0m\u001b[0;34m)\u001b[0m\u001b[0;34m\u001b[0m\u001b[0m\n\u001b[0;32m-> 1576\u001b[0;31m     \u001b[0;32melse\u001b[0m\u001b[0;34m:\u001b[0m\u001b[0;34m\u001b[0m\u001b[0m\n\u001b[0m\u001b[1;32m   1577\u001b[0m       \u001b[0mnode_def\u001b[0m\u001b[0;34m.\u001b[0m\u001b[0mdevice\u001b[0m \u001b[0;34m=\u001b[0m \u001b[0m_device_string\u001b[0m\u001b[0;34m(\u001b[0m\u001b[0mdevice\u001b[0m\u001b[0;34m)\u001b[0m\u001b[0;34m\u001b[0m\u001b[0m\n",
      "\u001b[0;31mInvalidArgumentError\u001b[0m: Dimension 1 in both shapes must be equal, but are 1 and 40. Shapes are [40,1] and [40,40]. for 'Assign' (op: 'Assign') with input shapes: [40,1], [40,40].",
      "\nDuring handling of the above exception, another exception occurred:\n",
      "\u001b[0;31mValueError\u001b[0m                                Traceback (most recent call last)",
      "\u001b[0;32m<ipython-input-173-b2298d737ed1>\u001b[0m in \u001b[0;36m<module>\u001b[0;34m()\u001b[0m\n\u001b[0;32m----> 1\u001b[0;31m \u001b[0mupdate_epsilon\u001b[0m \u001b[0;34m=\u001b[0m \u001b[0mepsilon\u001b[0m\u001b[0;34m.\u001b[0m\u001b[0massign\u001b[0m\u001b[0;34m(\u001b[0m\u001b[0mtf\u001b[0m\u001b[0;34m.\u001b[0m\u001b[0madd\u001b[0m\u001b[0;34m(\u001b[0m\u001b[0mepsilon\u001b[0m\u001b[0;34m,\u001b[0m \u001b[0mX\u001b[0m\u001b[0;34m[\u001b[0m\u001b[0;34m:\u001b[0m\u001b[0;34m,\u001b[0m\u001b[0;36m0\u001b[0m\u001b[0;34m]\u001b[0m \u001b[0;34m*\u001b[0m \u001b[0mEbeta\u001b[0m\u001b[0;34m[\u001b[0m\u001b[0;36m0\u001b[0m\u001b[0;34m]\u001b[0m\u001b[0;34m)\u001b[0m\u001b[0;34m)\u001b[0m\u001b[0;34m\u001b[0m\u001b[0m\n\u001b[0m",
      "\u001b[0;32m~/anaconda3/lib/python3.6/site-packages/tensorflow/python/ops/variables.py\u001b[0m in \u001b[0;36massign\u001b[0;34m(self, value, use_locking)\u001b[0m\n\u001b[1;32m    643\u001b[0m \u001b[0;34m\u001b[0m\u001b[0m\n\u001b[1;32m    644\u001b[0m     \u001b[0;31m`\u001b[0m\u001b[0mupdates\u001b[0m\u001b[0;31m`\u001b[0m \u001b[0;32mis\u001b[0m\u001b[0;31m \u001b[0m\u001b[0;31m`\u001b[0m\u001b[0mTensor\u001b[0m\u001b[0;31m`\u001b[0m \u001b[0mof\u001b[0m \u001b[0mrank\u001b[0m\u001b[0;31m \u001b[0m\u001b[0;31m`\u001b[0m\u001b[0mQ\u001b[0m\u001b[0;34m-\u001b[0m\u001b[0;36m1\u001b[0m\u001b[0;34m+\u001b[0m\u001b[0mP\u001b[0m\u001b[0;34m-\u001b[0m\u001b[0mK\u001b[0m\u001b[0;31m`\u001b[0m \u001b[0;32mwith\u001b[0m \u001b[0mshape\u001b[0m\u001b[0;34m:\u001b[0m\u001b[0;34m\u001b[0m\u001b[0m\n\u001b[0;32m--> 645\u001b[0;31m \u001b[0;34m\u001b[0m\u001b[0m\n\u001b[0m\u001b[1;32m    646\u001b[0m     \u001b[0;31m`\u001b[0m\u001b[0;31m`\u001b[0m\u001b[0;31m`\u001b[0m\u001b[0;34m\u001b[0m\u001b[0m\n\u001b[1;32m    647\u001b[0m     \u001b[0;34m[\u001b[0m\u001b[0md_0\u001b[0m\u001b[0;34m,\u001b[0m \u001b[0;34m...\u001b[0m\u001b[0;34m,\u001b[0m \u001b[0md_\u001b[0m\u001b[0;34m{\u001b[0m\u001b[0mQ\u001b[0m\u001b[0;34m-\u001b[0m\u001b[0;36m2\u001b[0m\u001b[0;34m}\u001b[0m\u001b[0;34m,\u001b[0m \u001b[0mref\u001b[0m\u001b[0;34m.\u001b[0m\u001b[0mshape\u001b[0m\u001b[0;34m[\u001b[0m\u001b[0mK\u001b[0m\u001b[0;34m]\u001b[0m\u001b[0;34m,\u001b[0m \u001b[0;34m...\u001b[0m\u001b[0;34m,\u001b[0m \u001b[0mref\u001b[0m\u001b[0;34m.\u001b[0m\u001b[0mshape\u001b[0m\u001b[0;34m[\u001b[0m\u001b[0mP\u001b[0m\u001b[0;34m-\u001b[0m\u001b[0;36m1\u001b[0m\u001b[0;34m]\u001b[0m\u001b[0;34m]\u001b[0m\u001b[0;34m.\u001b[0m\u001b[0;34m\u001b[0m\u001b[0m\n",
      "\u001b[0;32m~/anaconda3/lib/python3.6/site-packages/tensorflow/python/ops/state_ops.py\u001b[0m in \u001b[0;36massign\u001b[0;34m(ref, value, validate_shape, use_locking, name)\u001b[0m\n\u001b[1;32m    214\u001b[0m   \u001b[0mReturns\u001b[0m\u001b[0;34m:\u001b[0m\u001b[0;34m\u001b[0m\u001b[0m\n\u001b[1;32m    215\u001b[0m     \u001b[0mA\u001b[0m\u001b[0;31m \u001b[0m\u001b[0;31m`\u001b[0m\u001b[0mTensor\u001b[0m\u001b[0;31m`\u001b[0m \u001b[0mthat\u001b[0m \u001b[0mwill\u001b[0m \u001b[0mhold\u001b[0m \u001b[0mthe\u001b[0m \u001b[0mnew\u001b[0m \u001b[0mvalue\u001b[0m \u001b[0mof\u001b[0m \u001b[0;34m'ref'\u001b[0m \u001b[0mafter\u001b[0m\u001b[0;34m\u001b[0m\u001b[0m\n\u001b[0;32m--> 216\u001b[0;31m       \u001b[0mthe\u001b[0m \u001b[0massignment\u001b[0m \u001b[0mhas\u001b[0m \u001b[0mcompleted\u001b[0m\u001b[0;34m.\u001b[0m\u001b[0;34m\u001b[0m\u001b[0m\n\u001b[0m\u001b[1;32m    217\u001b[0m   \"\"\"\n\u001b[1;32m    218\u001b[0m   \u001b[0;32mif\u001b[0m \u001b[0mref\u001b[0m\u001b[0;34m.\u001b[0m\u001b[0mdtype\u001b[0m\u001b[0;34m.\u001b[0m\u001b[0m_is_ref_dtype\u001b[0m\u001b[0;34m:\u001b[0m\u001b[0;34m\u001b[0m\u001b[0m\n",
      "\u001b[0;32m~/anaconda3/lib/python3.6/site-packages/tensorflow/python/ops/gen_state_ops.py\u001b[0m in \u001b[0;36massign\u001b[0;34m(ref, value, validate_shape, use_locking, name)\u001b[0m\n\u001b[1;32m     58\u001b[0m     \u001b[0muse_locking\u001b[0m \u001b[0;34m=\u001b[0m \u001b[0m_execute\u001b[0m\u001b[0;34m.\u001b[0m\u001b[0mmake_bool\u001b[0m\u001b[0;34m(\u001b[0m\u001b[0muse_locking\u001b[0m\u001b[0;34m,\u001b[0m \u001b[0;34m\"use_locking\"\u001b[0m\u001b[0;34m)\u001b[0m\u001b[0;34m\u001b[0m\u001b[0m\n\u001b[1;32m     59\u001b[0m     _, _, _op = _op_def_lib._apply_op_helper(\n\u001b[0;32m---> 60\u001b[0;31m         \u001b[0;34m\"Assign\"\u001b[0m\u001b[0;34m,\u001b[0m \u001b[0mref\u001b[0m\u001b[0;34m=\u001b[0m\u001b[0mref\u001b[0m\u001b[0;34m,\u001b[0m \u001b[0mvalue\u001b[0m\u001b[0;34m=\u001b[0m\u001b[0mvalue\u001b[0m\u001b[0;34m,\u001b[0m \u001b[0mvalidate_shape\u001b[0m\u001b[0;34m=\u001b[0m\u001b[0mvalidate_shape\u001b[0m\u001b[0;34m,\u001b[0m\u001b[0;34m\u001b[0m\u001b[0m\n\u001b[0m\u001b[1;32m     61\u001b[0m         use_locking=use_locking, name=name)\n\u001b[1;32m     62\u001b[0m     \u001b[0m_result\u001b[0m \u001b[0;34m=\u001b[0m \u001b[0m_op\u001b[0m\u001b[0;34m.\u001b[0m\u001b[0moutputs\u001b[0m\u001b[0;34m[\u001b[0m\u001b[0;34m:\u001b[0m\u001b[0;34m]\u001b[0m\u001b[0;34m\u001b[0m\u001b[0m\n",
      "\u001b[0;32m~/anaconda3/lib/python3.6/site-packages/tensorflow/python/framework/op_def_library.py\u001b[0m in \u001b[0;36m_apply_op_helper\u001b[0;34m(self, op_type_name, name, **keywords)\u001b[0m\n\u001b[1;32m    785\u001b[0m         op = g.create_op(op_type_name, inputs, output_types, name=scope,\n\u001b[1;32m    786\u001b[0m                          \u001b[0minput_types\u001b[0m\u001b[0;34m=\u001b[0m\u001b[0minput_types\u001b[0m\u001b[0;34m,\u001b[0m \u001b[0mattrs\u001b[0m\u001b[0;34m=\u001b[0m\u001b[0mattr_protos\u001b[0m\u001b[0;34m,\u001b[0m\u001b[0;34m\u001b[0m\u001b[0m\n\u001b[0;32m--> 787\u001b[0;31m                          op_def=op_def)\n\u001b[0m\u001b[1;32m    788\u001b[0m       \u001b[0;32mreturn\u001b[0m \u001b[0moutput_structure\u001b[0m\u001b[0;34m,\u001b[0m \u001b[0mop_def\u001b[0m\u001b[0;34m.\u001b[0m\u001b[0mis_stateful\u001b[0m\u001b[0;34m,\u001b[0m \u001b[0mop\u001b[0m\u001b[0;34m\u001b[0m\u001b[0m\n\u001b[1;32m    789\u001b[0m \u001b[0;34m\u001b[0m\u001b[0m\n",
      "\u001b[0;32m~/anaconda3/lib/python3.6/site-packages/tensorflow/python/util/deprecation.py\u001b[0m in \u001b[0;36mnew_func\u001b[0;34m(*args, **kwargs)\u001b[0m\n\u001b[1;32m    452\u001b[0m       \u001b[0;32mreturn\u001b[0m \u001b[0;32mFalse\u001b[0m\u001b[0;34m\u001b[0m\u001b[0m\n\u001b[1;32m    453\u001b[0m \u001b[0;34m\u001b[0m\u001b[0m\n\u001b[0;32m--> 454\u001b[0;31m     \u001b[0;34m@\u001b[0m\u001b[0mfunctools\u001b[0m\u001b[0;34m.\u001b[0m\u001b[0mwraps\u001b[0m\u001b[0;34m(\u001b[0m\u001b[0mfunc\u001b[0m\u001b[0;34m)\u001b[0m\u001b[0;34m\u001b[0m\u001b[0m\n\u001b[0m\u001b[1;32m    455\u001b[0m     \u001b[0;32mdef\u001b[0m \u001b[0mnew_func\u001b[0m\u001b[0;34m(\u001b[0m\u001b[0;34m*\u001b[0m\u001b[0margs\u001b[0m\u001b[0;34m,\u001b[0m \u001b[0;34m**\u001b[0m\u001b[0mkwargs\u001b[0m\u001b[0;34m)\u001b[0m\u001b[0;34m:\u001b[0m\u001b[0;34m\u001b[0m\u001b[0m\n\u001b[1;32m    456\u001b[0m       \u001b[0;34m\"\"\"Deprecation wrapper.\"\"\"\u001b[0m\u001b[0;34m\u001b[0m\u001b[0m\n",
      "\u001b[0;32m~/anaconda3/lib/python3.6/site-packages/tensorflow/python/framework/ops.py\u001b[0m in \u001b[0;36mcreate_op\u001b[0;34m(***failed resolving arguments***)\u001b[0m\n\u001b[1;32m   3153\u001b[0m       \u001b[0mfunction\u001b[0m\u001b[0;34m:\u001b[0m \u001b[0mA\u001b[0m\u001b[0;31m \u001b[0m\u001b[0;31m`\u001b[0m\u001b[0m_DefinedFunction\u001b[0m\u001b[0;31m`\u001b[0m \u001b[0mobject\u001b[0m\u001b[0;34m.\u001b[0m\u001b[0;34m\u001b[0m\u001b[0m\n\u001b[1;32m   3154\u001b[0m \u001b[0;34m\u001b[0m\u001b[0m\n\u001b[0;32m-> 3155\u001b[0;31m \u001b[0;34m\u001b[0m\u001b[0m\n\u001b[0m\u001b[1;32m   3156\u001b[0m     \u001b[0mRaises\u001b[0m\u001b[0;34m:\u001b[0m\u001b[0;34m\u001b[0m\u001b[0m\n\u001b[1;32m   3157\u001b[0m       \u001b[0mValueError\u001b[0m\u001b[0;34m:\u001b[0m \u001b[0;32mif\u001b[0m \u001b[0manother\u001b[0m \u001b[0mfunction\u001b[0m \u001b[0;32mis\u001b[0m \u001b[0mdefined\u001b[0m \u001b[0;32mwith\u001b[0m \u001b[0mthe\u001b[0m \u001b[0msame\u001b[0m \u001b[0mname\u001b[0m\u001b[0;34m.\u001b[0m\u001b[0;34m\u001b[0m\u001b[0m\n",
      "\u001b[0;32m~/anaconda3/lib/python3.6/site-packages/tensorflow/python/framework/ops.py\u001b[0m in \u001b[0;36m__init__\u001b[0;34m(self, node_def, g, inputs, output_types, control_inputs, input_types, original_op, op_def)\u001b[0m\n\u001b[1;32m   1729\u001b[0m \u001b[0;34m\u001b[0m\u001b[0m\n\u001b[1;32m   1730\u001b[0m     \u001b[0;32mif\u001b[0m \u001b[0minputs\u001b[0m \u001b[0;32mis\u001b[0m \u001b[0;32mNone\u001b[0m\u001b[0;34m:\u001b[0m\u001b[0;34m\u001b[0m\u001b[0m\n\u001b[0;32m-> 1731\u001b[0;31m       \u001b[0minputs\u001b[0m \u001b[0;34m=\u001b[0m \u001b[0;34m[\u001b[0m\u001b[0;34m]\u001b[0m\u001b[0;34m\u001b[0m\u001b[0m\n\u001b[0m\u001b[1;32m   1732\u001b[0m     \u001b[0;32melif\u001b[0m \u001b[0;32mnot\u001b[0m \u001b[0misinstance\u001b[0m\u001b[0;34m(\u001b[0m\u001b[0minputs\u001b[0m\u001b[0;34m,\u001b[0m \u001b[0mlist\u001b[0m\u001b[0;34m)\u001b[0m\u001b[0;34m:\u001b[0m\u001b[0;34m\u001b[0m\u001b[0m\n\u001b[1;32m   1733\u001b[0m       \u001b[0;32mraise\u001b[0m \u001b[0mTypeError\u001b[0m\u001b[0;34m(\u001b[0m\u001b[0;34m\"inputs needs to be a list of Tensors: %s\"\u001b[0m \u001b[0;34m%\u001b[0m \u001b[0minputs\u001b[0m\u001b[0;34m)\u001b[0m\u001b[0;34m\u001b[0m\u001b[0m\n",
      "\u001b[0;32m~/anaconda3/lib/python3.6/site-packages/tensorflow/python/framework/ops.py\u001b[0m in \u001b[0;36m_create_c_op\u001b[0;34m(graph, node_def, inputs, control_inputs)\u001b[0m\n\u001b[1;32m   1577\u001b[0m       \u001b[0mnode_def\u001b[0m\u001b[0;34m.\u001b[0m\u001b[0mdevice\u001b[0m \u001b[0;34m=\u001b[0m \u001b[0m_device_string\u001b[0m\u001b[0;34m(\u001b[0m\u001b[0mdevice\u001b[0m\u001b[0;34m)\u001b[0m\u001b[0;34m\u001b[0m\u001b[0m\n\u001b[1;32m   1578\u001b[0m   \u001b[0;32mreturn\u001b[0m \u001b[0mnode_def\u001b[0m\u001b[0;34m\u001b[0m\u001b[0m\n\u001b[0;32m-> 1579\u001b[0;31m \u001b[0;34m\u001b[0m\u001b[0m\n\u001b[0m\u001b[1;32m   1580\u001b[0m \u001b[0;34m\u001b[0m\u001b[0m\n\u001b[1;32m   1581\u001b[0m \u001b[0;31m# Copied from core/framework/node_def_util.cc\u001b[0m\u001b[0;34m\u001b[0m\u001b[0;34m\u001b[0m\u001b[0m\n",
      "\u001b[0;31mValueError\u001b[0m: Dimension 1 in both shapes must be equal, but are 1 and 40. Shapes are [40,1] and [40,40]. for 'Assign' (op: 'Assign') with input shapes: [40,1], [40,40]."
     ]
    }
   ],
   "source": [
    "update_epsilon = epsilon.assign(tf.add(epsilon, X[:,0] * Ebeta[0]))"
   ]
  },
  {
   "cell_type": "code",
   "execution_count": 177,
   "metadata": {},
   "outputs": [
    {
     "data": {
      "text/plain": [
       "<tf.Tensor 'mul_49:0' shape=(40,) dtype=float32>"
      ]
     },
     "execution_count": 177,
     "metadata": {},
     "output_type": "execute_result"
    }
   ],
   "source": [
    "mull= X[:,0]*Ebeta[0]\n",
    "mull"
   ]
  },
  {
   "cell_type": "code",
   "execution_count": 176,
   "metadata": {},
   "outputs": [
    {
     "data": {
      "text/plain": [
       "<tf.Tensor 'sub_47:0' shape=(40, 1) dtype=float32>"
      ]
     },
     "execution_count": 176,
     "metadata": {},
     "output_type": "execute_result"
    }
   ],
   "source": [
    "epsilon"
   ]
  },
  {
   "cell_type": "code",
   "execution_count": 150,
   "metadata": {},
   "outputs": [],
   "source": [
    "epsilon = Y - tf.matmul(X,Ebeta) - vEmu*Emu"
   ]
  },
  {
   "cell_type": "code",
   "execution_count": 180,
   "metadata": {},
   "outputs": [
    {
     "data": {
      "text/plain": [
       "<tf.Tensor 'add_11:0' shape=(40,) dtype=float32>"
      ]
     },
     "execution_count": 180,
     "metadata": {},
     "output_type": "execute_result"
    }
   ],
   "source": [
    "ep31 = tf.squeeze(epsilon, axis=1) + mull\n",
    "ep31"
   ]
  },
  {
   "cell_type": "code",
   "execution_count": 156,
   "metadata": {},
   "outputs": [
    {
     "data": {
      "text/plain": [
       "<tf.Tensor 'Reshape:0' shape=(40,) dtype=float32>"
      ]
     },
     "execution_count": 156,
     "metadata": {},
     "output_type": "execute_result"
    }
   ],
   "source": [
    "ep22 = tf.reshape(epsilon, [40])\n",
    "ep22"
   ]
  },
  {
   "cell_type": "code",
   "execution_count": 34,
   "metadata": {},
   "outputs": [
    {
     "ename": "NameError",
     "evalue": "name 'Esigma2' is not defined",
     "output_type": "error",
     "traceback": [
      "\u001b[0;31m---------------------------------------------------------------------------\u001b[0m",
      "\u001b[0;31mNameError\u001b[0m                                 Traceback (most recent call last)",
      "\u001b[0;32m<ipython-input-34-bb75818dd0f7>\u001b[0m in \u001b[0;36m<module>\u001b[0;34m()\u001b[0m\n\u001b[1;32m      2\u001b[0m \u001b[0;32mfor\u001b[0m \u001b[0mi\u001b[0m \u001b[0;32min\u001b[0m \u001b[0mrange\u001b[0m\u001b[0;34m(\u001b[0m\u001b[0mnum_iter\u001b[0m\u001b[0;34m)\u001b[0m\u001b[0;34m:\u001b[0m\u001b[0;34m\u001b[0m\u001b[0m\n\u001b[1;32m      3\u001b[0m \u001b[0;34m\u001b[0m\u001b[0m\n\u001b[0;32m----> 4\u001b[0;31m     \u001b[0mEmu\u001b[0m \u001b[0;34m=\u001b[0m \u001b[0msample_mu\u001b[0m\u001b[0;34m(\u001b[0m\u001b[0mN\u001b[0m\u001b[0;34m,\u001b[0m \u001b[0mEsigma2\u001b[0m\u001b[0;34m,\u001b[0m \u001b[0mY\u001b[0m\u001b[0;34m,\u001b[0m \u001b[0mX\u001b[0m\u001b[0;34m,\u001b[0m \u001b[0mEbeta\u001b[0m\u001b[0;34m)\u001b[0m\u001b[0;34m\u001b[0m\u001b[0m\n\u001b[0m\u001b[1;32m      5\u001b[0m \u001b[0;34m\u001b[0m\u001b[0m\n\u001b[1;32m      6\u001b[0m     \u001b[0;32mfor\u001b[0m \u001b[0mj\u001b[0m \u001b[0;32min\u001b[0m \u001b[0mrange\u001b[0m\u001b[0;34m(\u001b[0m\u001b[0mM\u001b[0m\u001b[0;34m)\u001b[0m\u001b[0;34m:\u001b[0m \u001b[0;31m# implement random column\u001b[0m\u001b[0;34m\u001b[0m\u001b[0m\n",
      "\u001b[0;31mNameError\u001b[0m: name 'Esigma2' is not defined"
     ]
    }
   ],
   "source": [
    "# actual code\n",
    "for i in range(num_iter):\n",
    "    \n",
    "    Emu = sample_mu(N, Esigma2, Y, X, Ebeta)\n",
    "    \n",
    "    for j in range(M): # implement random column\n",
    "        \n",
    "        epsilon = epsilon + X[:,j]*Ebeta[j]\n",
    "        Cj=el1[j]+Esigma2/Epsi2; #adjusted variance\n",
    "        rj= tf.transpose(X[:,j])*epsilon; # mean\n",
    "        \n",
    "        ratio=(((tf.exp(-(tf.pow(rj,2))/(2*Cj*Esigma2))*tf.sqrt((Epsi2*Cj)/Esigma2))))\n",
    "        ratio=Ew/(Ew+ratio*(1-Ew))\n",
    "    \n",
    "        if (ny[marker]==0):\n",
    "            \n",
    "            Ebeta[j]=0\n",
    "        elif (ny[j]==1):\n",
    "            Ebeta[j]=rnorm(rj/Cj,Esigma2/Cj)\n",
    "            update = epsilon-X.col(j)*Ebeta[j]\n",
    "            sess.run(tf.assign(epsilon,update)) \n",
    "    for j in range(M):\n",
    "        print(sess.run(Ebeta[j]))\n",
    "        print(sess.run(ny[j]))\n",
    "    Ew=sample_w(M,NZ)\n",
    "    epsilon=Y-X*Ebeta-vEmu*Emu\n",
    "\n",
    "    Epsi2=sample_psi2_chisq(Ebeta,NZ,v0B,s0B)\n",
    "    Esigma2=sample_sigma_chisq(N,epsilon,v0E,s0E)"
   ]
  },
  {
   "cell_type": "code",
   "execution_count": null,
   "metadata": {},
   "outputs": [],
   "source": []
  },
  {
   "cell_type": "code",
   "execution_count": null,
   "metadata": {},
   "outputs": [],
   "source": []
  },
  {
   "cell_type": "code",
   "execution_count": null,
   "metadata": {},
   "outputs": [],
   "source": []
  },
  {
   "cell_type": "code",
   "execution_count": null,
   "metadata": {},
   "outputs": [],
   "source": []
  },
  {
   "cell_type": "code",
   "execution_count": null,
   "metadata": {},
   "outputs": [],
   "source": []
  },
  {
   "cell_type": "code",
   "execution_count": 137,
   "metadata": {},
   "outputs": [],
   "source": [
    "testConst = tf.ones([5,5])"
   ]
  },
  {
   "cell_type": "code",
   "execution_count": 142,
   "metadata": {},
   "outputs": [],
   "source": [
    "testConst = tf.constant(5, shape=[5,5])"
   ]
  },
  {
   "cell_type": "code",
   "execution_count": 143,
   "metadata": {},
   "outputs": [
    {
     "data": {
      "text/plain": [
       "array([[5, 5, 5, 5, 5],\n",
       "       [5, 5, 5, 5, 5],\n",
       "       [5, 5, 5, 5, 5],\n",
       "       [5, 5, 5, 5, 5],\n",
       "       [5, 5, 5, 5, 5]], dtype=int32)"
      ]
     },
     "execution_count": 143,
     "metadata": {},
     "output_type": "execute_result"
    }
   ],
   "source": [
    "sess.run(testConst)"
   ]
  },
  {
   "cell_type": "code",
   "execution_count": 144,
   "metadata": {},
   "outputs": [],
   "source": [
    "testConst = testConst * 4"
   ]
  },
  {
   "cell_type": "code",
   "execution_count": 145,
   "metadata": {},
   "outputs": [
    {
     "data": {
      "text/plain": [
       "array([[20, 20, 20, 20, 20],\n",
       "       [20, 20, 20, 20, 20],\n",
       "       [20, 20, 20, 20, 20],\n",
       "       [20, 20, 20, 20, 20],\n",
       "       [20, 20, 20, 20, 20]], dtype=int32)"
      ]
     },
     "execution_count": 145,
     "metadata": {},
     "output_type": "execute_result"
    }
   ],
   "source": [
    "sess.run(testConst)"
   ]
  },
  {
   "cell_type": "code",
   "execution_count": 130,
   "metadata": {},
   "outputs": [],
   "source": [
    "testVar = tf.Variable(tf.ones([5,5]))"
   ]
  },
  {
   "cell_type": "code",
   "execution_count": 134,
   "metadata": {},
   "outputs": [
    {
     "data": {
      "text/plain": [
       "array([[1., 1., 1., 1., 1.],\n",
       "       [1., 1., 1., 1., 1.],\n",
       "       [1., 1., 1., 1., 1.],\n",
       "       [1., 1., 1., 1., 1.],\n",
       "       [1., 1., 1., 1., 1.]], dtype=float32)"
      ]
     },
     "execution_count": 134,
     "metadata": {},
     "output_type": "execute_result"
    }
   ],
   "source": [
    "sess.run(testVar)"
   ]
  },
  {
   "cell_type": "code",
   "execution_count": 135,
   "metadata": {},
   "outputs": [],
   "source": [
    "testVar = testVar * 3"
   ]
  },
  {
   "cell_type": "code",
   "execution_count": 136,
   "metadata": {},
   "outputs": [
    {
     "data": {
      "text/plain": [
       "array([[3., 3., 3., 3., 3.],\n",
       "       [3., 3., 3., 3., 3.],\n",
       "       [3., 3., 3., 3., 3.],\n",
       "       [3., 3., 3., 3., 3.],\n",
       "       [3., 3., 3., 3., 3.]], dtype=float32)"
      ]
     },
     "execution_count": 136,
     "metadata": {},
     "output_type": "execute_result"
    }
   ],
   "source": [
    "sess.run(testVar)"
   ]
  },
  {
   "cell_type": "code",
   "execution_count": 146,
   "metadata": {},
   "outputs": [
    {
     "ename": "AttributeError",
     "evalue": "'Tensor' object has no attribute 'assign'",
     "output_type": "error",
     "traceback": [
      "\u001b[0;31m---------------------------------------------------------------------------\u001b[0m",
      "\u001b[0;31mAttributeError\u001b[0m                            Traceback (most recent call last)",
      "\u001b[0;32m<ipython-input-146-746ebf986f59>\u001b[0m in \u001b[0;36m<module>\u001b[0;34m()\u001b[0m\n\u001b[0;32m----> 1\u001b[0;31m \u001b[0mtestVar\u001b[0m\u001b[0;34m.\u001b[0m\u001b[0massign\u001b[0m\u001b[0;34m(\u001b[0m\u001b[0mtestVar\u001b[0m\u001b[0;34m*\u001b[0m\u001b[0;36m2\u001b[0m\u001b[0;34m)\u001b[0m\u001b[0;34m\u001b[0m\u001b[0m\n\u001b[0m",
      "\u001b[0;31mAttributeError\u001b[0m: 'Tensor' object has no attribute 'assign'"
     ]
    }
   ],
   "source": [
    "testVar.assign(testVar*2)"
   ]
  },
  {
   "cell_type": "code",
   "execution_count": null,
   "metadata": {},
   "outputs": [],
   "source": []
  },
  {
   "cell_type": "code",
   "execution_count": 149,
   "metadata": {},
   "outputs": [
    {
     "data": {
      "text/plain": [
       "1.0"
      ]
     },
     "execution_count": 149,
     "metadata": {},
     "output_type": "execute_result"
    }
   ],
   "source": [
    "#v = tf.get_variable(\"v\", shape=(), initializer=tf.zeros_initializer())\n",
    "assignment = v.assign_add(1)\n",
    "tf.global_variables_initializer().run(session = sess)\n",
    "sess.run(assignment)  # or assignment.op.run(), or assignment.eval()\n"
   ]
  },
  {
   "cell_type": "code",
   "execution_count": null,
   "metadata": {},
   "outputs": [],
   "source": []
  },
  {
   "cell_type": "code",
   "execution_count": null,
   "metadata": {},
   "outputs": [],
   "source": [
    "# WORKING VERSION\n",
    "\n",
    "\n",
    "\n",
    "\n",
    "\n",
    "\n",
    "# Create random column order list (dataset) + iterator\n",
    "col_list = tf.data.Dataset.range(ncol).shuffle(buffer_size=ncol)\n",
    "col_next = col_list.make_one_shot_iterator().get_next()\n",
    "\n",
    "#def scale_zscore(vector):\n",
    "#    mean, var = tf.nn.moments(vector, axes=[0])\n",
    "#    normalized_col = tf.map_fn(lambda x: (x - mean)/tf.sqrt(var), vector)\n",
    "#    return normalized_col\n",
    "\n",
    "# Launch of graph\n",
    "with tf.Session() as sess:\n",
    "\n",
    "    while True: # Loop on 'col_next', the queue of column iterator\n",
    "        try:\n",
    "            index = sess.run(col_next)\n",
    "            dataset = tf.contrib.data.CsvDataset( # Creates a dataset of the current csv column\n",
    "                        \"ex.csv\",\n",
    "                        [tf.float32],\n",
    "                        select_cols=[index]  # Only parse last three columns\n",
    "                    )\n",
    "            next_element = dataset.make_one_shot_iterator().get_next() # Creates an iterator\n",
    "            print('Current column to be full pass: ' + str(index))\n",
    "            current_col = []\n",
    "            while True: \n",
    "                try:\n",
    "                    current_col.append(sess.run(next_element)[0]) # Full pass\n",
    "                except tf.errors.OutOfRangeError: # End of full pass\n",
    "                    \n",
    "                    print(current_col)\n",
    "                    current_col = tf.convert_to_tensor([current_col])\n",
    "                    mean, var = tf.nn.moments(current_col, axes=[0])\n",
    "                    normalized_col = tf.map_fn(lambda x: (x - mean)/tf.sqrt(var), current_col)\n",
    "                    print(normalized_col)\n",
    "                    print('\\n')\n",
    "                    \n",
    "                    break\n",
    "\n",
    "\n",
    "            \n",
    "\n",
    "        except tf.errors.OutOfRangeError:\n",
    "            break\n",
    "\n",
    "\n"
   ]
  },
  {
   "cell_type": "code",
   "execution_count": null,
   "metadata": {},
   "outputs": [],
   "source": []
  }
 ],
 "metadata": {
  "kernelspec": {
   "display_name": "Python 3",
   "language": "python",
   "name": "python3"
  },
  "language_info": {
   "codemirror_mode": {
    "name": "ipython",
    "version": 3
   },
   "file_extension": ".py",
   "mimetype": "text/x-python",
   "name": "python",
   "nbconvert_exporter": "python",
   "pygments_lexer": "ipython3",
   "version": "3.6.4"
  }
 },
 "nbformat": 4,
 "nbformat_minor": 2
}
