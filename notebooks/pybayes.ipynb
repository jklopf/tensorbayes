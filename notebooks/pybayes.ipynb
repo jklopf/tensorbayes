#!/Users/admin/anaconda3/bin python3
# -*- coding: utf-8 -*-

import tensorflow as tf
import tensorflow_probability as tfp
import numpy as np

# Insert here a reproducible research seed from numpy
# ...
# ...

# Distributions

To do: get a numpy seed or look at how TF implements rng.

