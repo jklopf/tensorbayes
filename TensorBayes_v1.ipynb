{
 "cells": [
  {
   "cell_type": "markdown",
   "metadata": {},
   "source": [
    "# TensorBayes\n",
    "\n",
    "### Adaptation of `BayesC.cpp`\n",
    "\n"
   ]
  },
  {
   "cell_type": "markdown",
   "metadata": {},
   "source": [
    "## Imports"
   ]
  },
  {
   "cell_type": "code",
   "execution_count": 1,
   "metadata": {},
   "outputs": [],
   "source": [
    "import tensorflow as tf\n",
    "import tensorflow_probability as tfp\n",
    "import numpy as np\n",
    "\n",
    "tfd = tfp.distributions"
   ]
  },
  {
   "cell_type": "markdown",
   "metadata": {},
   "source": [
    "## File input\n",
    "\n",
    "To do"
   ]
  },
  {
   "cell_type": "code",
   "execution_count": 2,
   "metadata": {
    "collapsed": true
   },
   "outputs": [
    {
     "ename": "FileNotFoundError",
     "evalue": "[Errno 2] No such file or directory: 'ex.csv'",
     "output_type": "error",
     "traceback": [
      "\u001b[0;31m---------------------------------------------------------------------------\u001b[0m",
      "\u001b[0;31mFileNotFoundError\u001b[0m                         Traceback (most recent call last)",
      "\u001b[0;32m<ipython-input-2-61ac0dba8930>\u001b[0m in \u001b[0;36m<module>\u001b[0;34m()\u001b[0m\n\u001b[1;32m      1\u001b[0m \u001b[0;31m# Get the numbers of columns in the csv:\u001b[0m\u001b[0;34m\u001b[0m\u001b[0;34m\u001b[0m\u001b[0m\n\u001b[1;32m      2\u001b[0m \u001b[0;34m\u001b[0m\u001b[0m\n\u001b[0;32m----> 3\u001b[0;31m \u001b[0mcsv_in\u001b[0m \u001b[0;34m=\u001b[0m \u001b[0mopen\u001b[0m\u001b[0;34m(\u001b[0m\u001b[0;34m\"ex.csv\"\u001b[0m\u001b[0;34m,\u001b[0m \u001b[0;34m\"r\"\u001b[0m\u001b[0;34m)\u001b[0m                        \u001b[0;31m# open the csv\u001b[0m\u001b[0;34m\u001b[0m\u001b[0m\n\u001b[0m\u001b[1;32m      4\u001b[0m \u001b[0mncol\u001b[0m \u001b[0;34m=\u001b[0m \u001b[0mlen\u001b[0m\u001b[0;34m(\u001b[0m\u001b[0mcsv_in\u001b[0m\u001b[0;34m.\u001b[0m\u001b[0mreadline\u001b[0m\u001b[0;34m(\u001b[0m\u001b[0;34m)\u001b[0m\u001b[0;34m.\u001b[0m\u001b[0msplit\u001b[0m\u001b[0;34m(\u001b[0m\u001b[0;34m\",\"\u001b[0m\u001b[0;34m)\u001b[0m\u001b[0;34m)\u001b[0m            \u001b[0;31m# read the first line and count the # of columns\u001b[0m\u001b[0;34m\u001b[0m\u001b[0m\n\u001b[1;32m      5\u001b[0m \u001b[0mcsv_in\u001b[0m\u001b[0;34m.\u001b[0m\u001b[0mclose\u001b[0m\u001b[0;34m(\u001b[0m\u001b[0;34m)\u001b[0m                                      \u001b[0;31m# close the csv\u001b[0m\u001b[0;34m\u001b[0m\u001b[0m\n",
      "\u001b[0;31mFileNotFoundError\u001b[0m: [Errno 2] No such file or directory: 'ex.csv'"
     ]
    }
   ],
   "source": [
    "# Get the numbers of columns in the csv:\n",
    "# File I/O here \n",
    "\n",
    "\n",
    "# filenames = \"\"\n",
    "\n",
    "# csv_in = open(filenames, \"r\")                        # open the csv\n",
    "# ncol = len(csv_in.readline().split(\",\"))            # read the first line and count the # of columns\n",
    "# csv_in.close()                                      # close the csv\n",
    "# print(\"Number of columns in the csv: \" + str(ncol)) # print the # of columns"
   ]
  },
  {
   "cell_type": "markdown",
   "metadata": {},
   "source": [
    "## Reproducibility\n",
    "\n",
    "Seed setting for reproducable research."
   ]
  },
  {
   "cell_type": "code",
   "execution_count": 80,
   "metadata": {},
   "outputs": [],
   "source": [
    "# To do: get a numpy seed or look at how TF implements rng.\n",
    "\n",
    "# each distributions.sample() seen below can be seedeed.\n",
    "# ex. dist.sample(seed=32): return a sample of shape=() (scalar).\n",
    "\n",
    "# Set graph-level seed\n",
    "tf.set_random_seed(1234)"
   ]
  },
  {
   "cell_type": "markdown",
   "metadata": {},
   "source": [
    "## Distributions functions\n",
    "\n",
    "- Random Uniform:   \n",
    "return a sample from a uniform distribution of limits parameter `lower ` and `higher`.\n",
    "   \n",
    "   \n",
    "- Random Normal:   \n",
    "return a sample from a normal distribution of parameter `mean` and `standard deviation`.\n",
    "   \n",
    "   \n",
    "- Random Beta:   \n",
    "return a random quantile of a beta distribution of parameter `alpha` and `beta`.\n",
    "   \n",
    "   \n",
    "- Random Inversed Chi$^2$:   \n",
    "return a random quantile of a inversed chi$^2$ distribution of parameter `degrees of freedom` and `scale`.\n",
    "   \n",
    "   \n",
    "- Random Bernoulli:   \n",
    "return a sample from a bernoulli distribution of probability of sucess `p`.\n",
    "   \n",
    "   "
   ]
  },
  {
   "cell_type": "code",
   "execution_count": 9,
   "metadata": {},
   "outputs": [],
   "source": [
    "# Note: written as a translation of BayesC.cpp\n",
    "# the function definitions might not be needeed,\n",
    "# and the declarations of the distributions could be enough\n",
    "\n",
    "def runif(lower, higher):\n",
    "    dist = tfd.Uniform(lower, higher)\n",
    "    return dist.sample()\n",
    "\n",
    "def rnorm(mean, sd):\n",
    "    dist = tfd.Normal(loc= mean, scale= sd)\n",
    "    return dist.sample()\n",
    "\n",
    "def rbeta(alpha, beta):\n",
    "    dist = tfd.Beta(alpha, beta)\n",
    "    return dist.sample()\n",
    "\n",
    "def rinvchisq(df, scale):\n",
    "    dist = tfd.InverseGamma(df*0.5, df*scale*0.5)\n",
    "    return dist.sample()\n",
    "\n",
    "def rbernoulli(p):\n",
    "    dist = tfd.Bernoulli(probs=p)\n",
    "    return dist.sample()\n"
   ]
  },
  {
   "cell_type": "markdown",
   "metadata": {},
   "source": [
    "## Sampling functions\n",
    "\n",
    "- Sampling of the mean   \n",
    "     \n",
    "    \n",
    "- Sampling of the variance of beta   \n",
    "   \n",
    "   \n",
    "- Sampling of the error variance of Y   \n",
    "   \n",
    "   \n",
    "- Sample of the mixture weight   \n",
    "   \n",
    "   "
   ]
  },
  {
   "cell_type": "code",
   "execution_count": 4,
   "metadata": {},
   "outputs": [],
   "source": [
    "# sample mean\n",
    "def sample_mu(N, Esigma2, Y, X, beta): #as in BayesC, with the N parameter\n",
    "    mean = tf.reduce_sum(tf.subtract(Y, tf.matmul(X, beta)))/N\n",
    "    sd = tf.sqrt(Esigma2/N)\n",
    "    mu = rnorm(mean, sd)\n",
    "    return mu\n",
    "\n",
    "# sample variance of beta\n",
    "def sample_psi2_chisq( beta, NZ, v0B, s0B):\n",
    "    df=v0B+NZ\n",
    "    scale=(tf.nn.l2_loss(beta)*2*NZ+v0B*s0B)/(v0B+NZ)\n",
    "    psi2=rinvchisq(df, scale)\n",
    "    return(psi2)\n",
    "\n",
    "\n",
    "# sample error variance of Y\n",
    "def sample_sigma_chisq( N, epsilon, v0E, s0E):\n",
    "    sigma2=rinvchisq(v0E+N, (tf.nn.l2_loss(epsilon)*2+v0E*s0E)/(v0E+N))\n",
    "    return(sigma2)\n",
    "\n",
    "\n",
    "# sample mixture weight\n",
    "def sample_w( M, NZ):\n",
    "    w=rbeta(1+NZ,1+(M-NZ))\n",
    "    return(w)\n",
    "\n",
    "\n",
    "    \n",
    "    \n",
    "    "
   ]
  },
  {
   "cell_type": "code",
   "execution_count": 81,
   "metadata": {},
   "outputs": [],
   "source": [
    "## Simulate data\n",
    "\n",
    "def build_toy_dataset(N, beta, sigmaY_true=1):\n",
    "    \n",
    "    features = len(beta)\n",
    "    x = np.random.randn(N, features)\n",
    "    y = np.dot(x, beta) + np.random.normal(0, sigmaY_true, size=N)\n",
    "    return x, y\n",
    "\n",
    "N = 40  # number of data points\n",
    "M = 10  # number of features\n",
    "\n",
    "beta_true = np.random.randn(M)\n",
    "x, y = build_toy_dataset(N, beta_true)\n",
    "\n",
    "X = tf.constant(x, shape=[N,M], dtype=tf.float32)\n",
    "Y = tf.constant(y, shape = [N,1], dtype=tf.float32)\n",
    "\n",
    "index = np.random.permutation(M)\n",
    "\n",
    "# Could be implemented:\n",
    "# building datasets using TF API without numpy"
   ]
  },
  {
   "cell_type": "markdown",
   "metadata": {},
   "source": [
    "## Parameters setup"
   ]
  },
  {
   "cell_type": "code",
   "execution_count": 82,
   "metadata": {},
   "outputs": [],
   "source": [
    "# Distinction between constant and variables\n",
    "# Variables: values might change between evaluation of the graph\n",
    "# (if something changes within the graph, it should be a variable)\n",
    "\n",
    "Emu = tf.Variable(0., trainable=False)\n",
    "vEmu = tf.ones([N,1])\n",
    "Ebeta = np.zeros([M,1])\n",
    "Ebeta_ = tf.Variable(Ebeta, dtype=tf.float32, trainable=False)\n",
    "ny = np.zeros([M,1])\n",
    "Ew = tf.Variable(0., trainable=False)\n",
    "epsilon = tf.Variable(Y, trainable=False)\n",
    "NZ = tf.Variable(0., trainable=False)\n",
    "Esigma2 = tf.Variable(tf.nn.l2_loss(epsilon.initialized_value())/N, trainable=False)\n",
    "Epsi2 = tf.Variable(rbeta(1.,1.), trainable=False)"
   ]
  },
  {
   "cell_type": "code",
   "execution_count": 83,
   "metadata": {},
   "outputs": [],
   "source": [
    "#Standard parameterization of hyperpriors for variances\n",
    "#double v0E=0.001,s0E=0.001,v0B=0.001,s0B=0.001;\n",
    "\n",
    "#Alternative parameterization of hyperpriors for variances\n",
    "v0E, v0B = 4, 4\n",
    "s0B=((v0B-2)/v0B)*Epsi2\n",
    "s0E=((v0E-2)/v0E)*Esigma2"
   ]
  },
  {
   "cell_type": "markdown",
   "metadata": {},
   "source": [
    "## Tensorboard graph"
   ]
  },
  {
   "cell_type": "code",
   "execution_count": 84,
   "metadata": {},
   "outputs": [],
   "source": [
    "writer = tf.summary.FileWriter('.')\n",
    "writer.add_graph(tf.get_default_graph())"
   ]
  },
  {
   "cell_type": "markdown",
   "metadata": {},
   "source": [
    "## Gibbs sampling"
   ]
  },
  {
   "cell_type": "code",
   "execution_count": 85,
   "metadata": {},
   "outputs": [],
   "source": [
    "# Open session\n",
    "sess = tf.Session()"
   ]
  },
  {
   "cell_type": "code",
   "execution_count": 86,
   "metadata": {},
   "outputs": [],
   "source": [
    "# Initialize variables\n",
    "init = tf.global_variables_initializer()\n",
    "sess.run(init)"
   ]
  },
  {
   "cell_type": "code",
   "execution_count": 93,
   "metadata": {},
   "outputs": [],
   "source": [
    "num_iter = 5000"
   ]
  },
  {
   "cell_type": "code",
   "execution_count": 88,
   "metadata": {},
   "outputs": [],
   "source": [
    "# update ops\n",
    "u_epsilon_add = epsilon.assign(tf.add(epsilon, tf.reshape(X[:,marker]*Ebeta[marker],[N,1])))\n",
    "u_epsilon_sub = epsilon.assign(tf.subtract(epsilon, tf.reshape(X[:,marker]*Ebeta[0],[N,1])))\n",
    "u_Ebeta_ = Ebeta_.assign(Ebeta)\n",
    "u_epsilon = epsilon.assign(Y-tf.matmul(X,Ebeta_)-vEmu*Emu)\n",
    "u_Emu = Emu.assign(sample_mu(N, Esigma2, Y, X, Ebeta_))\n",
    "u_NZ = NZ.assign(np.sum(ny))\n",
    "u_Ew = Ew.assign(sample_w(M,NZ))\n",
    "u_epsi2 = Epsi2.assign(sample_psi2_chisq(Ebeta_,NZ,v0B,s0B))\n",
    "u_Esigma2 = Esigma2.assign(sample_sigma_chisq(N,epsilon,v0E,s0E))\n"
   ]
  },
  {
   "cell_type": "code",
   "execution_count": null,
   "metadata": {},
   "outputs": [],
   "source": [
    "for i in range(num_iter):\n",
    "    sess.run(u_Emu)\n",
    "    for marker in index:\n",
    "        sess.run(u_epsilon_add)\n",
    "        Cj=tf.nn.l2_loss(X[:,marker])*2+Esigma2/Epsi2 #adjusted variance\n",
    "        rj= tf.matmul(tf.reshape(X[:,marker], [1,N]),tf.reshape(epsilon, [N,1])) # mean\n",
    "        ratio=((tf.exp(-(tf.pow(rj,2))/(2*Cj*Esigma2))*tf.sqrt((Epsi2*Cj)/Esigma2)))\n",
    "        ratio=Ew/(Ew+ratio*(1-Ew))\n",
    "\n",
    "        ny[marker] = sess.run(rbernoulli(ratio))\n",
    "\n",
    "        if (ny[marker]==0):\n",
    "            Ebeta[marker]=0\n",
    "\n",
    "        elif (ny[marker]==1):\n",
    "            Ebeta[marker]=sess.run(rnorm(rj/Cj,Esigma2/Cj))\n",
    "\n",
    "        sess.run(u_epsilon_sub)\n",
    "\n",
    "    #for i in range(len(Ebeta)):\n",
    "    #    print(Ebeta[i], \"\\t\", ny[i])\n",
    "    sess.run(u_Ebeta_)\n",
    "    sess.run(u_NZ)\n",
    "    sess.run(u_Ew)\n",
    "    sess.run(u_epsilon)\n",
    "    sess.run(u_epsi2)\n",
    "    sess.run(u_Esigma2)"
   ]
  },
  {
   "cell_type": "code",
   "execution_count": null,
   "metadata": {},
   "outputs": [],
   "source": [
    "print(\"Ebeta\" + \"\\t\" + ' ny' + '\\t'+ ' beta_true')\n",
    "for i in range(M):\n",
    "    print(Ebeta[i], \"\\t\", ny[i], \"\\t\", beta_true[i])"
   ]
  },
  {
   "cell_type": "code",
   "execution_count": null,
   "metadata": {},
   "outputs": [],
   "source": [
    "import time\n",
    "\n",
    "start_time = time.clock()\n",
    "main()\n",
    "print time.clock() - start_time, \"seconds\""
   ]
  },
  {
   "cell_type": "code",
   "execution_count": 149,
   "metadata": {},
   "outputs": [
    {
     "data": {
      "text/plain": [
       "1.0"
      ]
     },
     "execution_count": 149,
     "metadata": {},
     "output_type": "execute_result"
    }
   ],
   "source": [
    "#v = tf.get_variable(\"v\", shape=(), initializer=tf.zeros_initializer())\n",
    "assignment = v.assign_add(1)\n",
    "tf.global_variables_initializer().run(session = sess)\n",
    "sess.run(assignment)  # or assignment.op.run(), or assignment.eval()\n"
   ]
  },
  {
   "cell_type": "code",
   "execution_count": null,
   "metadata": {},
   "outputs": [],
   "source": [
    "# WORKING VERSION\n",
    "\n",
    "\n",
    "\n",
    "\n",
    "\n",
    "\n",
    "# Create random column order list (dataset) + iterator\n",
    "col_list = tf.data.Dataset.range(ncol).shuffle(buffer_size=ncol)\n",
    "col_next = col_list.make_one_shot_iterator().get_next()\n",
    "\n",
    "#def scale_zscore(vector):\n",
    "#    mean, var = tf.nn.moments(vector, axes=[0])\n",
    "#    normalized_col = tf.map_fn(lambda x: (x - mean)/tf.sqrt(var), vector)\n",
    "#    return normalized_col\n",
    "\n",
    "# Launch of graph\n",
    "with tf.Session() as sess:\n",
    "\n",
    "    while True: # Loop on 'col_next', the queue of column iterator\n",
    "        try:\n",
    "            index = sess.run(col_next)\n",
    "            dataset = tf.contrib.data.CsvDataset( # Creates a dataset of the current csv column\n",
    "                        \"ex.csv\",\n",
    "                        [tf.float32],\n",
    "                        select_cols=[index]  # Only parse last three columns\n",
    "                    )\n",
    "            next_element = dataset.make_one_shot_iterator().get_next() # Creates an iterator\n",
    "            print('Current column to be full pass: ' + str(index))\n",
    "            current_col = []\n",
    "            while True: \n",
    "                try:\n",
    "                    current_col.append(sess.run(next_element)[0]) # Full pass\n",
    "                except tf.errors.OutOfRangeError: # End of full pass\n",
    "                    \n",
    "                    print(current_col)\n",
    "                    current_col = tf.convert_to_tensor([current_col])\n",
    "                    mean, var = tf.nn.moments(current_col, axes=[0])\n",
    "                    normalized_col = tf.map_fn(lambda x: (x - mean)/tf.sqrt(var), current_col)\n",
    "                    print(normalized_col)\n",
    "                    print('\\n')\n",
    "                    \n",
    "                    break\n",
    "\n",
    "\n",
    "            \n",
    "\n",
    "        except tf.errors.OutOfRangeError:\n",
    "            break\n",
    "\n",
    "\n"
   ]
  },
  {
   "cell_type": "code",
   "execution_count": null,
   "metadata": {},
   "outputs": [],
   "source": []
  }
 ],
 "metadata": {
  "kernelspec": {
   "display_name": "Python 3",
   "language": "python",
   "name": "python3"
  },
  "language_info": {
   "codemirror_mode": {
    "name": "ipython",
    "version": 3
   },
   "file_extension": ".py",
   "mimetype": "text/x-python",
   "name": "python",
   "nbconvert_exporter": "python",
   "pygments_lexer": "ipython3",
   "version": "3.6.4"
  }
 },
 "nbformat": 4,
 "nbformat_minor": 2
}
